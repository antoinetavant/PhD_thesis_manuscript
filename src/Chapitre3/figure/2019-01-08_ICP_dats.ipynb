{
 "cells": [
  {
   "cell_type": "code",
   "execution_count": 2,
   "metadata": {
    "ExecuteTime": {
     "end_time": "2019-03-10T07:47:05.725963Z",
     "start_time": "2019-03-10T07:47:05.229082Z"
    }
   },
   "outputs": [],
   "source": [
    "import numpy as np\n",
    "import matplotlib.pyplot as plt\n",
    "from Classes.LPPic_oneD import oneD\n",
    "from Classes.LPPic_fields import field as Field\n",
    "from Classes.LPPic_histogram import histo as Distrib\n",
    "from Classes.LPPic_temporal import History\n",
    "from Classes.LPPic_newwalls import newwalls\n",
    "\n",
    "import os"
   ]
  },
  {
   "cell_type": "code",
   "execution_count": 3,
   "metadata": {
    "ExecuteTime": {
     "end_time": "2019-03-10T07:47:05.742729Z",
     "start_time": "2019-03-10T07:47:05.739147Z"
    }
   },
   "outputs": [],
   "source": [
    "folders = [ str(i)+\"_1D_ICP/\" for i in range(200,208+1)]\n",
    "folders = [ \"244_1D/\"]\n",
    "root = \"/home/tavant/Data/\"\n",
    "paths = [root + f for f in folders]"
   ]
  },
  {
   "cell_type": "code",
   "execution_count": 4,
   "metadata": {
    "ExecuteTime": {
     "end_time": "2019-03-10T07:47:06.857579Z",
     "start_time": "2019-03-10T07:47:06.330982Z"
    }
   },
   "outputs": [
    {
     "name": "stdout",
     "output_type": "stream",
     "text": [
      "found 1969 files\n",
      "1900\n",
      "0.1\n"
     ]
    }
   ],
   "source": [
    "for p in paths:\n",
    "    run = Field(p)\n",
    "    O = run.inputobject.parameters[\"Pabs\"]\n",
    "    if O > 1e-12:\n",
    "        xmax = run.inputobject.parameters[\"ymax\"]\n",
    "        print(xmax)\n",
    "        xmax = run.inputobject.parameters[\"Ly\"]\n",
    "        print(xmax)\n",
    "    "
   ]
  },
  {
   "cell_type": "code",
   "execution_count": 6,
   "metadata": {
    "ExecuteTime": {
     "end_time": "2019-03-10T07:47:16.177963Z",
     "start_time": "2019-03-10T07:47:15.834352Z"
    },
    "code_folding": []
   },
   "outputs": [
    {
     "name": "stdout",
     "output_type": "stream",
     "text": [
      "found 1969 files\n",
      "found 1968 files\n"
     ]
    }
   ],
   "source": [
    "data = {\"info\":\"\"\"\n",
    "This is the data from the ICP simulations.\n",
    "Lx = 10 cm,\n",
    "F_rf = 13.56 MHz,\n",
    "The data is avveraged between some time\"\"\"}\n",
    "imin = 0.9\n",
    "for i,p in enumerate(paths):\n",
    "    run = Field(p)\n",
    "    Pa = run.inputobject.parameters[\"Pabs\"]\n",
    "    Pn = run.inputobject.parameters[\"Pn\"]\n",
    "    run.definecoords()\n",
    "    \n",
    "    Te = 2*run.meanfield(label=\"Eke(2)\", mean_axis=\"x\", imin=imin)\n",
    "    ne = run.meanfield(label=\"Nume\", mean_axis=\"x\", imin=imin)\n",
    "    ni = run.meanfield(label=\"Numi\", mean_axis=\"x\", imin=imin)\n",
    "    Je = run.meanfield(label=\"Je(2)\", mean_axis=\"x\", imin=imin)\n",
    "    Ji = run.meanfield(label=\"Ji(2)\", mean_axis=\"x\", imin=imin)\n",
    "    Phi = run.meanfield(label=\"Phi\", mean_axis=\"x\", imin=imin)\n",
    "    \n",
    "    nw = newwalls(p)\n",
    "    Nmean = 20\n",
    "    e = sum([ nw.return_fromkey(-i-1, \"Y_inf\", \"ener_e\").mean() for i in range(Nmean)])/Nmean\n",
    "    v = -sum([ nw.return_fromkey(-i-1, \"Y_inf\", \"ve_Y\").mean() for i in range(Nmean)])/Nmean\n",
    "    \n",
    "    \n",
    "    data[str(i)] = {\n",
    "        \"Te2\" : Te.tolist(),\n",
    "        \"ne\" : ne.tolist(),\n",
    "        \"ni\" : ni.tolist(),\n",
    "        \"Je\" : Je.tolist(),\n",
    "        \"Ji\" : Ji.tolist(),\n",
    "        \"phi\": Phi.tolist(),\n",
    "        \"x\" : run.tab_y.tolist(),\n",
    "        \"Pa\" : Pa,\n",
    "        \"Pn\" : Pn,\n",
    "        \"energwall\": e,\n",
    "        \"vwall\": v\n",
    "    }"
   ]
  },
  {
   "cell_type": "code",
   "execution_count": 7,
   "metadata": {
    "ExecuteTime": {
     "end_time": "2019-03-10T07:47:16.940725Z",
     "start_time": "2019-03-10T07:47:16.901017Z"
    }
   },
   "outputs": [],
   "source": [
    "import json\n",
    "with open(\"ICP_data.dat\", \"w\") as f:\n",
    "    json.dump(data, f )"
   ]
  },
  {
   "cell_type": "code",
   "execution_count": null,
   "metadata": {},
   "outputs": [],
   "source": []
  }
 ],
 "metadata": {
  "kernelspec": {
   "display_name": "Python 3",
   "language": "python",
   "name": "python3"
  },
  "language_info": {
   "codemirror_mode": {
    "name": "ipython",
    "version": 3
   },
   "file_extension": ".py",
   "mimetype": "text/x-python",
   "name": "python",
   "nbconvert_exporter": "python",
   "pygments_lexer": "ipython3",
   "version": "3.7.2"
  },
  "latex_envs": {
   "LaTeX_envs_menu_present": true,
   "autoclose": true,
   "autocomplete": false,
   "bibliofile": "biblio.bib",
   "cite_by": "apalike",
   "current_citInitial": 1,
   "eqLabelWithNumbers": true,
   "eqNumInitial": 1,
   "hotkeys": {
    "equation": "Ctrl-E",
    "itemize": "Ctrl-I"
   },
   "labels_anchors": false,
   "latex_user_defs": false,
   "report_style_numbering": false,
   "user_envs_cfg": false
  },
  "toc": {
   "base_numbering": 1,
   "nav_menu": {},
   "number_sections": true,
   "sideBar": true,
   "skip_h1_title": false,
   "title_cell": "Table of Contents",
   "title_sidebar": "Contents",
   "toc_cell": false,
   "toc_position": {},
   "toc_section_display": true,
   "toc_window_display": false
  },
  "varInspector": {
   "cols": {
    "lenName": 16,
    "lenType": 16,
    "lenVar": 40
   },
   "kernels_config": {
    "python": {
     "delete_cmd_postfix": "",
     "delete_cmd_prefix": "del ",
     "library": "var_list.py",
     "varRefreshCmd": "print(var_dic_list())"
    },
    "r": {
     "delete_cmd_postfix": ") ",
     "delete_cmd_prefix": "rm(",
     "library": "var_list.r",
     "varRefreshCmd": "cat(var_dic_list()) "
    }
   },
   "types_to_exclude": [
    "module",
    "function",
    "builtin_function_or_method",
    "instance",
    "_Feature"
   ],
   "window_display": false
  }
 },
 "nbformat": 4,
 "nbformat_minor": 2
}
