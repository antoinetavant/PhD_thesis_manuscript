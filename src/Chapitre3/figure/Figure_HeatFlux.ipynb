{
 "cells": [
  {
   "cell_type": "markdown",
   "metadata": {},
   "source": [
    "# PIC data"
   ]
  },
  {
   "cell_type": "code",
   "execution_count": 1,
   "metadata": {
    "ExecuteTime": {
     "end_time": "2019-04-29T09:05:34.064054Z",
     "start_time": "2019-04-29T09:05:32.903737Z"
    },
    "hide_input": true,
    "init_cell": true
   },
   "outputs": [],
   "source": [
    "from astropy.constants import m_e, e, k_B\n",
    "k = k_B.value\n",
    "me = m_e.value\n",
    "q = e.value\n",
    "import numpy as np\n",
    "import matplotlib.pyplot as plt\n",
    "\n",
    "import json\n",
    "%matplotlib notebook\n",
    "\n",
    "from scipy.interpolate import interp1d\n",
    "from math import ceil\n",
    "plt.style.use(\"presentation\")"
   ]
  },
  {
   "cell_type": "code",
   "execution_count": 2,
   "metadata": {
    "ExecuteTime": {
     "end_time": "2019-04-29T09:05:34.448438Z",
     "start_time": "2019-04-29T09:05:34.066577Z"
    },
    "hide_input": true,
    "init_cell": true
   },
   "outputs": [
    {
     "name": "stdout",
     "output_type": "stream",
     "text": [
      "dict_keys(['info', '0', '1', '2', '3', '4', '5'])\n",
      "~~~~~~~~~~~~~~~ \n",
      "\n",
      "Informations\n",
      "p: pressur un mTorr\n",
      "probnames: list of the names of the probes (also keys of the dict)\n",
      "prob_center: center of the prob\n",
      "in the prob data:\n",
      "    position: the coords of the bin :ymin, ymax\n",
      "    absciss: the velocities of the EVDFs (Vx, Vy, Vz)\n",
      "    EVDF: the EVDFs (Vx, Vy, Vz)\n",
      "\n",
      "~~~~~~~~~~~~~~~ \n",
      "\n",
      "Run disponibles\n",
      "0  p =  0.1 mTorr\n",
      "1  p =  2.0 mTorr\n",
      "2  p =  10.0 mTorr\n"
     ]
    }
   ],
   "source": [
    "with open(\"NewPic1D.dat\", \"r\") as f:\n",
    "    dataPIC = json.load(f)\n",
    "# with open(\"PIC_data.dat\", \"r\") as f:\n",
    "#     dataPIC = json.load(f)\n",
    "        \n",
    "with open(\"NewPIC_EVDFs.dat\", \"r\") as f:\n",
    "    data = json.load(f)\n",
    "# with open(\"PIC_EVDFs.dat\", \"r\") as f:\n",
    "#     data = json.load(f)\n",
    "        \n",
    "print(data.keys())\n",
    "print(\"~~~~~~~~~~~~~~~ \\n\")\n",
    "print(data[\"info\"])\n",
    "print(\"~~~~~~~~~~~~~~~ \\n\")\n",
    "print(\"Run disponibles\")\n",
    "for k in [\"0\",\"1\",\"2\"]:\n",
    "    run = data[k]\n",
    "    print(k,\" p = \",run[\"p\"], \"mTorr\")\n",
    "    \n",
    "dx = dataPIC[\"0\"][\"dx\"]"
   ]
  },
  {
   "cell_type": "code",
   "execution_count": 3,
   "metadata": {
    "ExecuteTime": {
     "end_time": "2019-04-29T09:05:34.459434Z",
     "start_time": "2019-04-29T09:05:34.451378Z"
    },
    "hide_input": true,
    "init_cell": true
   },
   "outputs": [
    {
     "name": "stdout",
     "output_type": "stream",
     "text": [
      "['001' '002' '003' '004' '005' '006' '007' '008' '009' '010' '011' '012']\n",
      "[  2.5   7.5  15.   25.   35.   50.   70.   90.  125.  175.  250.  450. ]\n"
     ]
    }
   ],
   "source": [
    "k = '0'\n",
    "probnames = np.array(data[k][\"probnames\"])\n",
    "prob_center = np.array(data[k][\"prob_center\"])\n",
    "prob_y0 = np.array(data[k][\"prob_y0\"])\n",
    "prob_y1 = np.array(data[k][\"prob_y1\"])\n",
    "\n",
    "print(probnames)\n",
    "print(prob_center)\n",
    "dx = data[k][\"dx\"]*1000\n"
   ]
  },
  {
   "cell_type": "code",
   "execution_count": 4,
   "metadata": {
    "ExecuteTime": {
     "end_time": "2019-04-29T09:05:34.477802Z",
     "start_time": "2019-04-29T09:05:34.467751Z"
    },
    "code_folding": [],
    "hide_input": false,
    "init_cell": true
   },
   "outputs": [],
   "source": [
    "def returnxy(pn, k=\"1\"):\n",
    "    a = np.array(data[k][pn]['absciss'])\n",
    "    V = np.array(data[k][pn]['EVDF'])\n",
    "    idenx = 1\n",
    "    x = a[:,idenx]\n",
    "    x = x**2*np.sign(x)*me/q/2\n",
    "    y = V[:,idenx]\n",
    "    \n",
    "    index = np.argwhere(pn == probnames)[0][0]\n",
    "    xcenter = prob_center[index]\n",
    "    x0 = int(prob_y0[index])\n",
    "    x1 = int(prob_y1[index])\n",
    "    \n",
    "    phi = np.array(dataPIC[k][\"phi\"])\n",
    "    pc = interp1d(np.arange(len(phi)),phi)(xcenter)\n",
    "    p0 = phi[x0]\n",
    "    p1 = phi[x1]\n",
    "    \n",
    "    # p = phi[int(xcenter)]\n",
    "    return x, y, pc , p0, p1"
   ]
  },
  {
   "cell_type": "code",
   "execution_count": 9,
   "metadata": {
    "ExecuteTime": {
     "end_time": "2019-04-25T10:27:47.011396Z",
     "start_time": "2019-04-25T10:27:46.355898Z"
    },
    "code_folding": []
   },
   "outputs": [
    {
     "name": "stderr",
     "output_type": "stream",
     "text": [
      "/home/tavant/these/code/venv/stand/lib64/python3.7/site-packages/matplotlib/figure.py:2144: UserWarning: This figure was using constrained_layout==True, but that is incompatible with subplots_adjust and or tight_layout: setting constrained_layout==False. \n",
      "  warnings.warn(\"This figure was using constrained_layout==True, \"\n",
      "No handles with labels found to put in legend.\n"
     ]
    },
    {
     "data": {
      "text/plain": [
       "Text(0.5, 0, '$\\\\phi$ [V]')"
      ]
     },
     "execution_count": 9,
     "metadata": {},
     "output_type": "execute_result"
    },
    {
     "data": {
      "image/png": "[encoded data removed]",
      "text/plain": [
       "<Figure size 324x288 with 1 Axes>"
      ]
     },
     "metadata": {
      "needs_background": "light"
     },
     "output_type": "display_data"
    }
   ],
   "source": [
    "# plot \n",
    "plt.figure(figsize=(4.5,4))\n",
    "plt.subplots_adjust(left=0.17, bottom=0.17, right=0.99, top=0.925, wspace=0.05, hspace=0.25)\n",
    "\n",
    "ft = 14\n",
    "s = 2.5\n",
    "\n",
    "for Nprob in range(len(probnames)):\n",
    "    \n",
    "    x, y, phic, phi0, phi1 = returnxy(probnames[Nprob])\n",
    "    # x, y, phic = returnxy(probnames[Nprob])\n",
    "    y0sum = (y).max()\n",
    "    T = np.sum(np.abs(x) * y)/y.sum()*2\n",
    "    plt.scatter(phic, T)\n",
    "    \n",
    "phi = np.array(dataPIC[k][\"phi\"])\n",
    "Te = np.array(dataPIC[k][\"Te2\"])\n",
    "plt.plot(phi, Te,linewidth=s, alpha=0.7,ls=\"--\" )\n",
    "\n",
    "# plt.legend( fontsize=ft,loc=(1,0.1 ))\n",
    "plt.legend(loc = 'lower left', fontsize=11)\n",
    "plt.grid(alpha=0.5)\n",
    "plt.ylabel(\"Te\", fontsize=ft)\n",
    "plt.xlabel(\"$\\phi$ [V]\", fontsize=ft)\n",
    "\n"
   ]
  },
  {
   "cell_type": "markdown",
   "metadata": {},
   "source": [
    "# Heatflux from EVDF"
   ]
  },
  {
   "cell_type": "code",
   "execution_count": 10,
   "metadata": {
    "ExecuteTime": {
     "end_time": "2019-04-25T10:27:49.374603Z",
     "start_time": "2019-04-25T10:27:48.755353Z"
    }
   },
   "outputs": [
    {
     "data": {
      "text/plain": [
       "(10, 7516610.724189471)"
      ]
     },
     "execution_count": 10,
     "metadata": {},
     "output_type": "execute_result"
    },
    {
     "data": {
      "image/png": "[encoded data removed]",
      "text/plain": [
       "<Figure size 324x324 with 1 Axes>"
      ]
     },
     "metadata": {
      "needs_background": "light"
     },
     "output_type": "display_data"
    }
   ],
   "source": [
    "k = \"0\"\n",
    "Nprob = -1\n",
    "x, y, phic, phi0, phi1 = returnxy(probnames[Nprob], k=k)\n",
    "plt.figure(figsize=(4.5,4.5))\n",
    "plt.subplots_adjust(left=0.17, bottom=0.17, right=0.99, top=0.925, wspace=0.05, hspace=0.25)\n",
    "\n",
    "plt.plot(x,y)\n",
    "\n",
    "Nprob = 1\n",
    "x, y, phic, phi0, phi1 = returnxy(probnames[Nprob], k=k)\n",
    "plt.plot(x,y)\n",
    "\n",
    "plt.yscale(\"log\")\n",
    "plt.vlines([phic,phic*1.3], 0.001,1e5)\n",
    "plt.ylim(bottom=10)"
   ]
  },
  {
   "cell_type": "code",
   "execution_count": 11,
   "metadata": {
    "ExecuteTime": {
     "end_time": "2019-04-25T10:27:51.853611Z",
     "start_time": "2019-04-25T10:27:51.270218Z"
    }
   },
   "outputs": [
    {
     "data": {
      "text/plain": [
       "(10, 292425.90040283627)"
      ]
     },
     "execution_count": 11,
     "metadata": {},
     "output_type": "execute_result"
    },
    {
     "data": {
      "image/png": "[encoded data removed]",
      "text/plain": [
       "<Figure size 324x324 with 1 Axes>"
      ]
     },
     "metadata": {
      "needs_background": "light"
     },
     "output_type": "display_data"
    }
   ],
   "source": [
    "k = \"0\"\n",
    "Nprob = 2\n",
    "x, y, phic, phi0, phi1 = returnxy(probnames[Nprob], k=k)\n",
    "plt.figure(figsize=(4.5,4.5))\n",
    "plt.subplots_adjust(left=0.17, bottom=0.17, right=0.99, top=0.925, wspace=0.05, hspace=0.25)\n",
    "\n",
    "plt.plot(x,y)\n",
    "plt.yscale(\"log\")\n",
    "plt.vlines([phic,phic*1.3], 0.001,1e5)\n",
    "plt.xlim(0, 20)\n",
    "plt.ylim(bottom=10)"
   ]
  },
  {
   "cell_type": "code",
   "execution_count": 12,
   "metadata": {
    "ExecuteTime": {
     "end_time": "2019-04-25T10:27:52.720817Z",
     "start_time": "2019-04-25T10:27:52.639127Z"
    }
   },
   "outputs": [],
   "source": [
    "from scipy.integrate import simps"
   ]
  },
  {
   "cell_type": "code",
   "execution_count": 43,
   "metadata": {
    "ExecuteTime": {
     "end_time": "2019-04-25T13:13:59.813071Z",
     "start_time": "2019-04-25T13:13:59.100389Z"
    }
   },
   "outputs": [
    {
     "data": {
      "text/plain": [
       "<matplotlib.legend.Legend at 0x7fabac308358>"
      ]
     },
     "execution_count": 43,
     "metadata": {},
     "output_type": "execute_result"
    },
    {
     "data": {
      "image/png": "[encoded data removed]",
      "text/plain": [
       "<Figure size 432x288 with 1 Axes>"
      ]
     },
     "metadata": {
      "needs_background": "light"
     },
     "output_type": "display_data"
    }
   ],
   "source": [
    "def return_heat_flux(k=\"0\", Nprob=2, cut=True):\n",
    "    \n",
    "    x, y, phic, phi0, phi1 = returnxy(probnames[Nprob], k=k)\n",
    "    y /= y.sum()\n",
    "    if cut:\n",
    "        mask = (x>phic) & (x<=1.1*phic)\n",
    "    else:\n",
    "        mask = (x>phic) \n",
    "            \n",
    "    \n",
    "    heatflux = simps(0.5*x[mask]*y[mask], x[mask])\n",
    "    \n",
    "    flux = simps(y[mask], x[mask])\n",
    "    \n",
    "    x, y, phic, phi0, phi1 = returnxy(probnames[9], k=k)\n",
    "    mask = (x>0) \n",
    "            \n",
    "    T = np.sum(np.abs(x[mask]) * y[mask])/y[mask].sum()*2 \n",
    "    \n",
    "    return heatflux/flux/T\n",
    "\n",
    "plt.figure()\n",
    "\n",
    "for gamma, k in zip([1.6, 1.43, 1.41], [\"0\", \"1\", \"2\"]):\n",
    "    \n",
    "    plt.scatter(gamma, return_heat_flux(k, Nprob=3), c=\"k\", label=\"WITHOUT HIGH ENERGY TAIL\")\n",
    "    plt.scatter(gamma, return_heat_flux(k, Nprob=3, cut=False), c=\"b\", label=\"WITH HIGH ENERGY TAIL\")    \n",
    "    \n",
    "plt.legend()"
   ]
  },
  {
   "cell_type": "markdown",
   "metadata": {},
   "source": [
    "# conclusion\n",
    "\n",
    "When calculating the heat flux from the EVDF, we get that:\n",
    "$$\\frac{Q_e}{\\Gamma_e T_e} \\simeq 0.315$$\n",
    "\n",
    "Which is very close from the theoritical value varing from 0.3 to 0.1."
   ]
  },
  {
   "cell_type": "code",
   "execution_count": null,
   "metadata": {},
   "outputs": [],
   "source": []
  }
 ],
 "metadata": {
  "celltoolbar": "Initialization Cell",
  "kernelspec": {
   "display_name": "Python 3",
   "language": "python",
   "name": "python3"
  },
  "language_info": {
   "codemirror_mode": {
    "name": "ipython",
    "version": 3
   },
   "file_extension": ".py",
   "mimetype": "text/x-python",
   "name": "python",
   "nbconvert_exporter": "python",
   "pygments_lexer": "ipython3",
   "version": "3.7.2"
  },
  "latex_envs": {
   "LaTeX_envs_menu_present": true,
   "autoclose": true,
   "autocomplete": false,
   "bibliofile": "biblio.bib",
   "cite_by": "apalike",
   "current_citInitial": 1,
   "eqLabelWithNumbers": true,
   "eqNumInitial": 1,
   "hotkeys": {
    "equation": "Ctrl-E",
    "itemize": "Ctrl-I"
   },
   "labels_anchors": false,
   "latex_user_defs": false,
   "report_style_numbering": false,
   "user_envs_cfg": false
  },
  "toc": {
   "base_numbering": 1,
   "nav_menu": {},
   "number_sections": true,
   "sideBar": true,
   "skip_h1_title": false,
   "title_cell": "Table of Contents",
   "title_sidebar": "Contents",
   "toc_cell": false,
   "toc_position": {},
   "toc_section_display": true,
   "toc_window_display": true
  },
  "varInspector": {
   "cols": {
    "lenName": 16,
    "lenType": 16,
    "lenVar": 40
   },
   "kernels_config": {
    "python": {
     "delete_cmd_postfix": "",
     "delete_cmd_prefix": "del ",
     "library": "var_list.py",
     "varRefreshCmd": "print(var_dic_list())"
    },
    "r": {
     "delete_cmd_postfix": ") ",
     "delete_cmd_prefix": "rm(",
     "library": "var_list.r",
     "varRefreshCmd": "cat(var_dic_list()) "
    }
   },
   "types_to_exclude": [
    "module",
    "function",
    "builtin_function_or_method",
    "instance",
    "_Feature"
   ],
   "window_display": false
  }
 },
 "nbformat": 4,
 "nbformat_minor": 2
}
