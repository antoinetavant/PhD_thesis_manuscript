{
 "cells": [
  {
   "cell_type": "markdown",
   "metadata": {},
   "source": [
    "# Coches results"
   ]
  },
  {
   "cell_type": "code",
   "execution_count": 3,
   "metadata": {},
   "outputs": [],
   "source": [
    "# Scientific libraries\n",
    "import numpy as np\n",
    "import scipy\n",
    "\n",
    "\n",
    "# Graphic libraries\n",
    "\n",
    "import matplotlib.pyplot as plt\n",
    "%matplotlib widget\n",
    "\n",
    "plt.style.use(\"presentation\")\n",
    "plt.rcParams[\"figure.figsize\"] = (4, 3)\n",
    "\n",
    "# Creating alias for magic commands\n",
    "\n",
    "# LPPview Classes\n",
    "from LPPview import *\n",
    "from LPPview.Classes.LPPic_temporal import History\n"
   ]
  },
  {
   "cell_type": "code",
   "execution_count": 2,
   "metadata": {},
   "outputs": [],
   "source": [
    "root = \"/DATA/tavant/\"\n",
    "folders = [\"220_Coche_same_FakeR_2cm/\", \"219_Coche_same_fakeR/\", \"214_Coche_same_CE/\"]\n",
    "names = [\"$L_R=2$ cm\", \"$L_R=2$ mm\", \"No $L_R$\"]\n",
    "\n",
    "paths = [root+f for f in folders]"
   ]
  },
  {
   "cell_type": "code",
   "execution_count": 4,
   "metadata": {},
   "outputs": [
    {
     "data": {
      "application/vnd.jupyter.widget-view+json": {
       "model_id": "5468ecbd69264d749aaed290163e3cd0",
       "version_major": 2,
       "version_minor": 0
      },
      "text/plain": [
       "FigureCanvasNbAgg()"
      ]
     },
     "metadata": {},
     "output_type": "display_data"
    },
    {
     "name": "stdout",
     "output_type": "stream",
     "text": [
      "found 3028 files\n",
      "I've found a temporale file !\n",
      "found 1 files\n",
      "loading dat file\n",
      "found 2278 files\n",
      "I've found a temporale file !\n",
      "found 1 files\n",
      "loading dat file\n"
     ]
    }
   ],
   "source": [
    "\n",
    "def plot_ne():\n",
    "    plt.figure()\n",
    "\n",
    "    for i in [2, 0]:\n",
    "        \n",
    "\n",
    "        path=paths[i]\n",
    "        \n",
    "        F = field(path)\n",
    "        H = History(path)\n",
    "        temporal_data = H.return_history()\n",
    "        #print(temporal_data.keys())\n",
    "        time = temporal_data[\"time\"]*1e6\n",
    "        # rate =  (temporal_data[\"elec_SEE\"] +  temporal_data[\"elec_SEE_sup\"])/ temporal_data[\"elec_wal\"]\n",
    "        # rate[0] = 0\n",
    "        mob = temporal_data[\"mobi\"]\n",
    "        ne = temporal_data[\"elec\"]\n",
    "\n",
    "\n",
    "        plt.plot(time, F._qf*ne, label=names[i])\n",
    "        \n",
    "        \n",
    "    plt.xlim(0, 300)\n",
    "    plt.xlabel(\"Time [$\\mu$s]\")\n",
    "    \n",
    "    plt.ylabel(\"Mean electron density $n_e$ [m$^{-3}$]\")\n",
    "    \n",
    "    plt.legend()\n",
    "    \n",
    "    plt.ylim(bottom=0, top=5e15)\n",
    "    \n",
    "plot_ne()     \n"
   ]
  },
  {
   "cell_type": "code",
   "execution_count": 5,
   "metadata": {},
   "outputs": [],
   "source": [
    "from mpl_toolkits.axes_grid1.axes_divider import make_axes_locatable, Divider, AxesDivider\n",
    "from mpl_toolkits.axes_grid1.colorbar import colorbar"
   ]
  },
  {
   "cell_type": "code",
   "execution_count": 63,
   "metadata": {},
   "outputs": [
    {
     "name": "stdout",
     "output_type": "stream",
     "text": [
      "found 3028 files\n",
      "1759\n"
     ]
    },
    {
     "name": "stderr",
     "output_type": "stream",
     "text": [
      "/opt/venv/lib/python3.7/site-packages/ipykernel_launcher.py:10: RuntimeWarning: More than 20 figures have been opened. Figures created through the pyplot interface (`matplotlib.pyplot.figure`) are retained until explicitly closed and may consume too much memory. (To control this warning, see the rcParam `figure.max_open_warning`).\n",
      "  # Remove the CWD from sys.path while we load stuff.\n"
     ]
    },
    {
     "data": {
      "application/vnd.jupyter.widget-view+json": {
       "model_id": "3830061b99ba40a19a77bf226f20db33",
       "version_major": 2,
       "version_minor": 0
      },
      "text/plain": [
       "FigureCanvasNbAgg()"
      ]
     },
     "metadata": {},
     "output_type": "display_data"
    },
    {
     "name": "stdout",
     "output_type": "stream",
     "text": [
      "Bbox(x0=0.08, y0=0.20000000000000007, x1=0.49363636363636365, y1=0.9)\n",
      "Bbox(x0=0.5763636363636363, y0=0.20000000000000007, x1=0.9899999999999999, y1=0.9)\n"
     ]
    },
    {
     "name": "stderr",
     "output_type": "stream",
     "text": [
      "/opt/venv/lib/python3.7/site-packages/ipykernel_launcher.py:12: UserWarning: This figure was using constrained_layout==True, but that is incompatible with subplots_adjust and or tight_layout: setting constrained_layout==False. \n",
      "  if sys.path[0] == '':\n"
     ]
    }
   ],
   "source": [
    "t_mus = 214\n",
    "t_mus = 236\n",
    "path=paths[2]\n",
    "F = field(path)\n",
    "F.definecoords()\n",
    "t_index = int( t_mus//(F._dT*F._Na*1e6))\n",
    "print(t_index)\n",
    "\n",
    "\n",
    "fig, axarr = plt.subplots(1, 2, figsize=(6, 3))\n",
    "\n",
    "fig.subplots_adjust(top=0.9, bottom=0.2, right=0.99, left=0.08)\n",
    "\n",
    "keys = [\"Ej(1)\", \"Nume\"]\n",
    "for ax, key in zip(axarr, keys):\n",
    "    tab = F.return_fromkey(t_index, key)\n",
    "    \n",
    "    if key == \"Ej(1)\":\n",
    "        tab *= 1e-3\n",
    "        label= \"$E_{\\\\theta}$ [kV/m]\"\n",
    "    elif key == \"Nume\":\n",
    "        tab *= 1e-17\n",
    "        label= \"$10^{17}\\, n_e$ [m$^{-3}$]\"\n",
    "        \n",
    "    ax.set_xlabel(\"Axial position $z$ [cm]\")\n",
    "    \n",
    "    im = ax.imshow(tab, extent=[0, F._Ly*100, 0, F._Lx*100])\n",
    "\n",
    "    ax2_divider = make_axes_locatable(ax, )\n",
    "    ax.text(2.2, 4.8, label, fontsize=11 )    \n",
    "    \n",
    "    # add an axes above the main axes.\n",
    "    cax2 = ax2_divider.append_axes(\"top\", size=\"5%\", pad=\"7%\",)\n",
    "    \n",
    "    cax2.set_axis_off()\n",
    "    \n",
    "    box = cax2.get_position()\n",
    "    print(box)\n",
    "    width = box.width\n",
    "    height = box.height\n",
    "\n",
    "    inax_position  = ax.transAxes.transform([0.5, 0.5])\n",
    "    transFigure = fig.transFigure.inverted()\n",
    "    infig_position = transFigure.transform(inax_position)   \n",
    "    x = infig_position[0]\n",
    "    y = infig_position[1]\n",
    "    \n",
    "    cax2 = plt.axes([box.x0, 0.85, width*0.5, height*0.05])\n",
    "    \n",
    "    cb2 = colorbar(im, cax=cax2, orientation=\"horizontal\", )\n",
    "    # change tick position to top. Tick position defaults to bottom and overlaps\n",
    "    # the image.\n",
    "    cax2.xaxis.set_ticks_position(\"top\")\n",
    "    \n",
    "    \n",
    "axarr[0].set_ylabel(\"Azimuthal position $\\\\theta$ [cm]\")\n",
    "\n",
    "plt.savefig(f\"Coche_example_t={t_mus}.png\", dpi=400)"
   ]
  },
  {
   "cell_type": "markdown",
   "metadata": {},
   "source": [
    "# Boeuf\n"
   ]
  },
  {
   "cell_type": "code",
   "execution_count": 65,
   "metadata": {},
   "outputs": [],
   "source": [
    "path_ref = \"/DATA/tavant/266_Boeuf_166Thomas/\"\n",
    "path_L2 = \"/DATA/tavant/158_Beauf_fakeR/\"\n",
    "path_L4 = \"/DATA/tavant/163_Beauf_fakeR2/\"\n",
    "paths = [path_ref, path_L4, path_L2]\n",
    "names = [\"no $L_R$\", \"$L_R$=4cm\", \"$L_R$=2cm\"]\n"
   ]
  },
  {
   "cell_type": "code",
   "execution_count": 70,
   "metadata": {},
   "outputs": [
    {
     "name": "stdout",
     "output_type": "stream",
     "text": [
      "found 498 files\n",
      "320\n"
     ]
    },
    {
     "name": "stderr",
     "output_type": "stream",
     "text": [
      "/opt/venv/lib/python3.7/site-packages/ipykernel_launcher.py:10: RuntimeWarning: More than 20 figures have been opened. Figures created through the pyplot interface (`matplotlib.pyplot.figure`) are retained until explicitly closed and may consume too much memory. (To control this warning, see the rcParam `figure.max_open_warning`).\n",
      "  # Remove the CWD from sys.path while we load stuff.\n"
     ]
    },
    {
     "data": {
      "application/vnd.jupyter.widget-view+json": {
       "model_id": "49f36971babf4a599a30297d77304d1b",
       "version_major": 2,
       "version_minor": 0
      },
      "text/plain": [
       "FigureCanvasNbAgg()"
      ]
     },
     "metadata": {},
     "output_type": "display_data"
    },
    {
     "name": "stdout",
     "output_type": "stream",
     "text": [
      "Bbox(x0=0.1, y0=0.20000000000000007, x1=0.48636363636363633, y1=0.9)\n",
      "Bbox(x0=0.5636363636363636, y0=0.20000000000000007, x1=0.9499999999999998, y1=0.9)\n"
     ]
    },
    {
     "name": "stderr",
     "output_type": "stream",
     "text": [
      "/opt/venv/lib/python3.7/site-packages/ipykernel_launcher.py:12: UserWarning: This figure was using constrained_layout==True, but that is incompatible with subplots_adjust and or tight_layout: setting constrained_layout==False. \n",
      "  if sys.path[0] == '':\n"
     ]
    }
   ],
   "source": [
    "t_mus = 8\n",
    "\n",
    "path=paths[0]\n",
    "F = field(path)\n",
    "F.definecoords()\n",
    "t_index = int( t_mus//(F._dT*F._Na*1e6))\n",
    "print(t_index)\n",
    "\n",
    "\n",
    "fig, axarr = plt.subplots(1, 2, figsize=(6, 3))\n",
    "\n",
    "fig.subplots_adjust(top=0.9, bottom=0.2, right=0.95, left=0.1)\n",
    "\n",
    "keys = [\"Ej(1)\", \"Nume\"]\n",
    "for ax, key in zip(axarr, keys):\n",
    "    tab = F.return_fromkey(t_index, key)\n",
    "    \n",
    "    if key == \"Ej(1)\":\n",
    "        tab *= 1e-3\n",
    "        label= \"$E_{\\\\theta}$ [kV/m]\"\n",
    "    elif key == \"Nume\":\n",
    "        tab *= 1e-17\n",
    "        label= \"$10^{17}\\, n_e$ [m$^{-3}$]\"\n",
    "        \n",
    "    ax.set_xlabel(\"Axial position $z$ [cm]\")\n",
    "    \n",
    "    im = ax.imshow(tab, extent=[0, F._Ly*100, 0, F._Lx*100])\n",
    "\n",
    "    ax2_divider = make_axes_locatable(ax, )\n",
    "    ax.text(1.3, 1.4, label, fontsize=11 )    \n",
    "    \n",
    "    # add an axes above the main axes.\n",
    "    cax2 = ax2_divider.append_axes(\"top\", size=\"5%\", pad=\"7%\",)\n",
    "    \n",
    "    cax2.set_axis_off()\n",
    "    \n",
    "    box = cax2.get_position()\n",
    "    print(box)\n",
    "    width = box.width\n",
    "    height = box.height\n",
    "\n",
    "    inax_position  = ax.transAxes.transform([0.5, 0.5])\n",
    "    transFigure = fig.transFigure.inverted()\n",
    "    infig_position = transFigure.transform(inax_position)   \n",
    "    x = infig_position[0]\n",
    "    y = infig_position[1]\n",
    "    \n",
    "    cax2 = plt.axes([box.x0, 0.85, width*0.5, height*0.05])\n",
    "    \n",
    "    cb2 = colorbar(im, cax=cax2, orientation=\"horizontal\", )\n",
    "    # change tick position to top. Tick position defaults to bottom and overlaps\n",
    "    # the image.\n",
    "    cax2.xaxis.set_ticks_position(\"top\")\n",
    "    \n",
    "    \n",
    "axarr[0].set_ylabel(\"Azimuthal position $\\\\theta$ [cm]\")\n",
    "\n",
    "plt.savefig(f\"Boeuf_example_t={t_mus}.png\", dpi=400)"
   ]
  },
  {
   "cell_type": "code",
   "execution_count": null,
   "metadata": {},
   "outputs": [],
   "source": []
  }
 ],
 "metadata": {
  "kernelspec": {
   "display_name": "Python 3",
   "language": "python",
   "name": "python3"
  },
  "language_info": {
   "codemirror_mode": {
    "name": "ipython",
    "version": 3
   },
   "file_extension": ".py",
   "mimetype": "text/x-python",
   "name": "python",
   "nbconvert_exporter": "python",
   "pygments_lexer": "ipython3",
   "version": "3.7.3"
  }
 },
 "nbformat": 4,
 "nbformat_minor": 2
}
