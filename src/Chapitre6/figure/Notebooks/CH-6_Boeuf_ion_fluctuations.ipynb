{
 "cells": [
  {
   "cell_type": "markdown",
   "metadata": {},
   "source": [
    "# Boeuf results"
   ]
  },
  {
   "cell_type": "code",
   "execution_count": 9,
   "metadata": {},
   "outputs": [],
   "source": [
    "# Scientific libraries\n",
    "import numpy as np\n",
    "import scipy\n",
    "\n",
    "\n",
    "# Graphic libraries\n",
    "%matplotlib widget\n",
    "\n",
    "import matplotlib.pyplot as plt\n",
    "\n",
    "plt.style.use(\"presentation\")\n",
    "plt.rcParams[\"figure.figsize\"] = (4, 3)\n",
    "\n",
    "# Creating alias for magic commands\n",
    "\n",
    "# LPPview Classes\n",
    "from LPPview import *\n",
    "from LPPview.Classes.LPPic_temporal import History\n",
    "from LPPview.Classes.LPPic_fields import field\n",
    "from LPPview.Classes.LPPic_fields import field as Field\n",
    "from LPPview.Classes.LPPic_newwalls import newwalls as Newwalls\n",
    "from LPPview.Classes.LPPic_temporal import History\n",
    "\n",
    "from plasmapy.physics import Debye_length\n",
    "from plasmapy.physics import plasma_frequency\n",
    "from astropy import units as u\n",
    "\n",
    "from scipy.ndimage import gaussian_filter1d as smooth\n",
    "from scipy.ndimage import gaussian_filter\n",
    "\n",
    "from tqdm import tqdm_notebook as tqdm"
   ]
  },
  {
   "cell_type": "code",
   "execution_count": 11,
   "metadata": {},
   "outputs": [
    {
     "name": "stdout",
     "output_type": "stream",
     "text": [
      "found 498 files\n",
      "found 403 files\n",
      "found 772 files\n",
      "I've found a temporale file !\n",
      "found 1 files\n",
      "loading dat file\n",
      "I've found a temporale file !\n",
      "found 1 files\n",
      "loading dat file\n",
      "I've found a temporale file !\n",
      "found 1 files\n",
      "loading dat file\n",
      "found 497 files\n",
      "found 402 files\n",
      "found 771 files\n"
     ]
    }
   ],
   "source": [
    "path_ref = \"/DATA/tavant/266_Boeuf_166Thomas/\"\n",
    "path_L2 = \"/DATA/tavant/158_Beauf_fakeR/\"\n",
    "path_L4 = \"/DATA/tavant/163_Beauf_fakeR2/\"\n",
    "paths = [path_ref, path_L4, path_L2]\n",
    "names = [\"no $L_R$\", \"$L_R$=4cm\", \"$L_R$=2cm\"]\n",
    "colors = [\"k\",\"b\", \"r\"]\n",
    "fields = [Field(path) for path in paths ]\n",
    "\n",
    "for f in fields:\n",
    "    f.definecoords()\n",
    "histories = [History(path)for path in paths ]\n",
    "walls = [Newwalls(path) for path in paths ]\n",
    "\n"
   ]
  },
  {
   "cell_type": "markdown",
   "metadata": {},
   "source": [
    "# Temporal evolutions"
   ]
  },
  {
   "cell_type": "code",
   "execution_count": 3,
   "metadata": {},
   "outputs": [
    {
     "name": "stdout",
     "output_type": "stream",
     "text": [
      "dict_keys(['time', 'elec', 'ions', 'SUMe_x', 'SUMe_y', 'SUMe_z', 'coll', 'ioni', 'mobi', 'elec_SEE', 'elec_SEE_sup', 'elec_wal', 'elec_cou', 'elec_Oz', 'I_cd', 'I_an', 'I_an_e', 'I_an_i', 'I_beam', 'I_out_electron'])\n"
     ]
    }
   ],
   "source": [
    "hDicts = [h.return_history() for h in histories]\n",
    "print(hDicts[0].keys())"
   ]
  },
  {
   "cell_type": "markdown",
   "metadata": {},
   "source": [
    "# Wave energy density "
   ]
  },
  {
   "cell_type": "code",
   "execution_count": 24,
   "metadata": {},
   "outputs": [],
   "source": [
    "def return_dni_ni(field : Field, i=-1):\n",
    "    \"\"\"Return the wave energy:\n",
    "    $ dni =  std(E) \\sqrt{2} $\n",
    "    \"\"\"\n",
    "    tab = field.return_fromkey(i, \"Numi\")\n",
    "    \n",
    "    std_E = tab.std(axis=0)\n",
    "    \n",
    "    return np.sqrt(2)*std_E, tab.mean(axis=0)\n",
    "\n",
    "def return_dni_ni_averaged(field:Field, tmin_mus=9, tmax_mus=10):\n",
    "    \"\"\"Average dni and ni over time \"\"\"\n",
    "    \n",
    "    tmin_ind, tmax_ind = [int ( t_mus*1e-6 / (field._dT * field._Na) ) for t_mus in [tmin_mus, tmax_mus] ]\n",
    "    \n",
    "    for t in range(tmin_ind, tmax_ind):\n",
    "        if t == tmin_ind:\n",
    "            dni, ni = return_dni_ni(field, t)\n",
    "            dni_norm = dni/ni\n",
    "        else:\n",
    "            dni_tmp, ni_tmp = return_dni_ni(field, t)\n",
    "            \n",
    "            dni += dni_tmp\n",
    "            ni += ni_tmp\n",
    "            dni_norm += dni_tmp/ni_tmp\n",
    "        \n",
    "    dni /= tmax_ind - tmin_ind\n",
    "    ni /= tmax_ind - tmin_ind\n",
    "    dni_norm /= tmax_ind - tmin_ind\n",
    "    \n",
    "    return dni, ni, dni_norm\n",
    "                          "
   ]
  },
  {
   "cell_type": "code",
   "execution_count": 17,
   "metadata": {},
   "outputs": [
    {
     "data": {
      "application/vnd.jupyter.widget-view+json": {
       "model_id": "e996ed2d78864b24877943d66de04bbd",
       "version_major": 2,
       "version_minor": 0
      },
      "text/plain": [
       "FigureCanvasNbAgg()"
      ]
     },
     "metadata": {},
     "output_type": "display_data"
    },
    {
     "data": {
      "text/plain": [
       "Text(0.5, 0.98, 'Ion density fluctuation at $t=10\\\\mu$s ')"
      ]
     },
     "execution_count": 17,
     "metadata": {},
     "output_type": "execute_result"
    }
   ],
   "source": [
    "fig, axarr = plt.subplots(1, 2, figsize=(8, 3))\n",
    "\n",
    "vmax = 0\n",
    "for f, n in zip(fields, names):\n",
    "    \n",
    "    dni, ni = return_dni_ni(f, 400)\n",
    "\n",
    "    axarr[0].plot(f.tab_y, dni, label=n)\n",
    "    axarr[1].plot(f.tab_y, dni/ni*100, label=n)\n",
    "\n",
    "\n",
    "for ax in axarr:\n",
    "    ax.legend()    \n",
    "    ax.set_xlabel(\"Axial position $z$ [cm]\")\n",
    "\n",
    "axarr[0].set_ylabel(\"Ion fluctuation $\\delta n_i$ [SI]\")\n",
    "axarr[1].set_ylabel(\"Nomalized $\\delta n_i / n_i$ [%]\")\n",
    "fig.suptitle(\"Ion density fluctuation at $t=10\\mu$s \")\n",
    "#plt.savefig(\"Boeuf_Ex_snapshot.png\", dpi=400)"
   ]
  },
  {
   "cell_type": "code",
   "execution_count": 51,
   "metadata": {},
   "outputs": [
    {
     "name": "stderr",
     "output_type": "stream",
     "text": [
      "/opt/venv/lib/python3.7/site-packages/ipykernel_launcher.py:1: RuntimeWarning: More than 20 figures have been opened. Figures created through the pyplot interface (`matplotlib.pyplot.figure`) are retained until explicitly closed and may consume too much memory. (To control this warning, see the rcParam `figure.max_open_warning`).\n",
      "  \"\"\"Entry point for launching an IPython kernel.\n"
     ]
    },
    {
     "data": {
      "application/vnd.jupyter.widget-view+json": {
       "model_id": "570de646972a40cfab96b4ac164a13c6",
       "version_major": 2,
       "version_minor": 0
      },
      "text/plain": [
       "FigureCanvasNbAgg()"
      ]
     },
     "metadata": {},
     "output_type": "display_data"
    },
    {
     "data": {
      "text/plain": [
       "Text(0.5, 0.98, 'Ion density fluctuation averaged between $t=7$ and $10\\\\mu$s ')"
      ]
     },
     "execution_count": 51,
     "metadata": {},
     "output_type": "execute_result"
    }
   ],
   "source": [
    "fig, axarr = plt.subplots(1, 3, figsize=(8, 3))\n",
    "\n",
    "vmax = 0\n",
    "for f, n in zip(fields, names):\n",
    "    dni, ni, dni_norm = return_dni_ni_averaged(f, tmin_mus=7, tmax_mus=10)\n",
    "\n",
    "    axarr[0].plot(f.tab_y, dni, label=n)\n",
    "    axarr[1].plot(f.tab_y, dni/ni*100, label=n)\n",
    "    axarr[2].plot(f.tab_y, dni_norm*100, label=n)\n",
    "\n",
    "\n",
    "for ax in axarr:\n",
    "    ax.legend()    \n",
    "    ax.set_xlabel(\"Axial position $z$ [cm]\")\n",
    "\n",
    "axarr[0].set_ylabel(\"Ion fluctuation $\\delta n_i$ [SI]\")\n",
    "axarr[1].set_ylabel(\"Nomalized $<\\delta n_i> /< n_i>$ [%]\")\n",
    "axarr[2].set_ylabel(\"Nomalized $<\\delta n_i / n_i>$ [%]\")\n",
    "fig.suptitle(\"Ion density fluctuation averaged between $t=7$ and $10\\mu$s \")\n",
    "#plt.savefig(\"Boeuf_Ex_snapshot.png\", dpi=400)"
   ]
  },
  {
   "cell_type": "markdown",
   "metadata": {},
   "source": [
    "# Wave amplitude evolution"
   ]
  },
  {
   "cell_type": "code",
   "execution_count": 37,
   "metadata": {},
   "outputs": [],
   "source": [
    "def return_dni_2D_zt(field, nt_max=None):\n",
    "    \"\"\"return the spatio_temporal evolution of the wave energy\"\"\"\n",
    "    if nt_max is None:\n",
    "        nt_max = field._nT\n",
    "        \n",
    "    dni_2D = np.zeros( shape=( nt_max, field._ymax+1))\n",
    "    ni_2D = np.zeros( shape=( nt_max, field._ymax+1))\n",
    "    \n",
    "    for i in tqdm(range(nt_max)):\n",
    "        dni, ni = return_dni_ni(field, i)\n",
    "        dni_2D[i] = dni\n",
    "        ni_2D[i] = ni\n",
    "        \n",
    "    return dni_2D, ni_2D"
   ]
  },
  {
   "cell_type": "code",
   "execution_count": 38,
   "metadata": {},
   "outputs": [
    {
     "data": {
      "application/vnd.jupyter.widget-view+json": {
       "model_id": "b0e25c381f274f8582f1639be026b786",
       "version_major": 2,
       "version_minor": 0
      },
      "text/plain": [
       "HBox(children=(IntProgress(value=0, max=403), HTML(value='')))"
      ]
     },
     "metadata": {},
     "output_type": "display_data"
    },
    {
     "name": "stdout",
     "output_type": "stream",
     "text": [
      "\n"
     ]
    },
    {
     "data": {
      "application/vnd.jupyter.widget-view+json": {
       "model_id": "6c057b798d624764aa357aa01a36fe0a",
       "version_major": 2,
       "version_minor": 0
      },
      "text/plain": [
       "HBox(children=(IntProgress(value=0, max=403), HTML(value='')))"
      ]
     },
     "metadata": {},
     "output_type": "display_data"
    },
    {
     "name": "stdout",
     "output_type": "stream",
     "text": [
      "\n"
     ]
    },
    {
     "data": {
      "application/vnd.jupyter.widget-view+json": {
       "model_id": "e5cc37b471c04dc5965c64188a5d0862",
       "version_major": 2,
       "version_minor": 0
      },
      "text/plain": [
       "HBox(children=(IntProgress(value=0, max=403), HTML(value='')))"
      ]
     },
     "metadata": {},
     "output_type": "display_data"
    },
    {
     "name": "stdout",
     "output_type": "stream",
     "text": [
      "\n"
     ]
    }
   ],
   "source": [
    "nt_max = 9999\n",
    "for f in fields:\n",
    "    nt_max = min(nt_max, f._nT)\n",
    "    \n",
    "[dni2D_0, ni2D_0], [dni2D_1, ni2D_1], [dni2D_2, ni2D_2] = [return_dni_2D_zt(f, nt_max) for f in fields]\n"
   ]
  },
  {
   "cell_type": "code",
   "execution_count": 57,
   "metadata": {},
   "outputs": [
    {
     "name": "stderr",
     "output_type": "stream",
     "text": [
      "/opt/venv/lib/python3.7/site-packages/ipykernel_launcher.py:3: RuntimeWarning: More than 20 figures have been opened. Figures created through the pyplot interface (`matplotlib.pyplot.figure`) are retained until explicitly closed and may consume too much memory. (To control this warning, see the rcParam `figure.max_open_warning`).\n",
      "  This is separate from the ipykernel package so we can avoid doing imports until\n"
     ]
    },
    {
     "data": {
      "application/vnd.jupyter.widget-view+json": {
       "model_id": "773d2cf615b047cba2ca559a86fd246b",
       "version_major": 2,
       "version_minor": 0
      },
      "text/plain": [
       "FigureCanvasNbAgg()"
      ]
     },
     "metadata": {},
     "output_type": "display_data"
    },
    {
     "name": "stderr",
     "output_type": "stream",
     "text": [
      "/opt/venv/lib/python3.7/site-packages/ipykernel_launcher.py:3: RuntimeWarning: More than 20 figures have been opened. Figures created through the pyplot interface (`matplotlib.pyplot.figure`) are retained until explicitly closed and may consume too much memory. (To control this warning, see the rcParam `figure.max_open_warning`).\n",
      "  This is separate from the ipykernel package so we can avoid doing imports until\n"
     ]
    },
    {
     "data": {
      "application/vnd.jupyter.widget-view+json": {
       "model_id": "84ef057f87cf43bf89d1d2e2768337da",
       "version_major": 2,
       "version_minor": 0
      },
      "text/plain": [
       "FigureCanvasNbAgg()"
      ]
     },
     "metadata": {},
     "output_type": "display_data"
    },
    {
     "name": "stdout",
     "output_type": "stream",
     "text": [
      "20.58450342877192\n"
     ]
    },
    {
     "name": "stderr",
     "output_type": "stream",
     "text": [
      "/opt/venv/lib/python3.7/site-packages/ipykernel_launcher.py:22: RuntimeWarning: invalid value encountered in true_divide\n"
     ]
    }
   ],
   "source": [
    "def dni_2D_evolution(smooth_gaussian_2D=False, normed=False):\n",
    "\n",
    "    fig, axarr = plt.subplots(1, 3, figsize=(8, 3))\n",
    "\n",
    "    icut = 10\n",
    "\n",
    "    nt_max = 900\n",
    "    for f in fields:\n",
    "        nt_max = min( nt_max, f._nT)\n",
    "\n",
    "    datas_dn = [dni2D_0, dni2D_1, dni2D_2]\n",
    "    datas_n = [ni2D_0, ni2D_1, ni2D_2]\n",
    "\n",
    "    \"\"\"Process the data : 2D Gaussian smooth\"\"\"\n",
    "    if smooth_gaussian_2D :\n",
    "        datas = [ gaussian_filter(d, sigma=2, order=0) for d in datas_dn]\n",
    "    else:\n",
    "        datas = [ d for d in datas_dn]\n",
    "        \n",
    "    \"\"\"Process the data : Normalized the fluctuations\"\"\"\n",
    "    if normed:\n",
    "        datas = [ dn/n*100 for dn, n in zip(datas, datas_n)]\n",
    "        \n",
    "        vmax = max( [ (d[-10:, :]).max() for d in datas])\n",
    "        #vmax = 19\n",
    "        print(vmax)\n",
    "        \n",
    "        cb_label= \"fluctuations $\\delta n_i / n_i$ [%]\"\n",
    "\n",
    "    else :\n",
    "        datas = [data/data.max() for data in datas]\n",
    "        vmax = 1\n",
    "        cb_label= \"fluctuations $\\delta n_i$ [m$^{-3}$]\"\n",
    "\n",
    "    vmin = 0\n",
    "\n",
    "    for f, ax, n, data in zip(fields, axarr, names, datas):\n",
    "        f.definecoords()\n",
    "\n",
    "        im =ax.imshow(data , extent=(0,f._Ly*100, 0, nt_max*f._dT*f._Na*1e6), vmin=vmin, vmax=vmax, cmap=\"plasma\")\n",
    "        ax.set_title(n, fontsize=12)\n",
    "        ax.set_xlabel(\"Axial position $z$ [cm]\")\n",
    "\n",
    "\n",
    "    axarr[0].set_ylabel(\"Time [$\\mu$s]\")\n",
    "    cb = plt.colorbar(im, ax=axarr[2], fraction=0.05, aspect=30, ticks=[0,vmax])\n",
    "    cb.ax.set_ylabel(cb_label)\n",
    "    #cb.ax.set_yticks([0,1])\n",
    "    cb.ax.set_yticklabels([0, f\"{vmax:3.1f}\"])\n",
    "    fig.suptitle(\"Axial-temporal evolution of $W$\", fontsize=14)\n",
    "\n",
    "\n",
    "dni_2D_evolution()\n",
    "# plt.savefig(\"Boeuf_Fake_R_dni.png\", dpi=400)\n",
    "\n",
    "\n",
    "# dni_2D_evolution(True)\n",
    "# plt.savefig(\"Boeuf_Fake_R_dni_smoothed.png\", dpi=400)\n",
    "\n",
    "\n",
    "dni_2D_evolution(normed=True)\n",
    "# plt.savefig(\"Boeuf_Fake_R_dni_normed.png\", dpi=400)\n",
    "\n",
    "\n",
    "# dni_2D_evolution(True, normed=True)\n",
    "# plt.savefig(\"Boeuf_Fake_R_dni_normed_smoothed.png\", dpi=400)\n"
   ]
  },
  {
   "cell_type": "markdown",
   "metadata": {},
   "source": [
    "## Conclusion\n",
    "The Ion density fluctuations are not \"simply\" conserved and convected..."
   ]
  }
 ],
 "metadata": {
  "kernelspec": {
   "display_name": "Python 3",
   "language": "python",
   "name": "python3"
  },
  "language_info": {
   "codemirror_mode": {
    "name": "ipython",
    "version": 3
   },
   "file_extension": ".py",
   "mimetype": "text/x-python",
   "name": "python",
   "nbconvert_exporter": "python",
   "pygments_lexer": "ipython3",
   "version": "3.7.3"
  }
 },
 "nbformat": 4,
 "nbformat_minor": 2
}
