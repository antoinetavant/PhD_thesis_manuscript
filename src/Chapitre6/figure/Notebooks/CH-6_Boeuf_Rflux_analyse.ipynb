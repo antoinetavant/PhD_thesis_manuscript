{
 "cells": [
  {
   "cell_type": "markdown",
   "metadata": {},
   "source": [
    "# Boeuf results\n",
    "\n",
    "## We investigate the radial fluxes, see if it is correlated with the instability"
   ]
  },
  {
   "cell_type": "code",
   "execution_count": 2,
   "metadata": {
    "ExecuteTime": {
     "end_time": "2019-08-29T11:01:21.131034Z",
     "start_time": "2019-08-29T11:01:20.787063Z"
    }
   },
   "outputs": [
    {
     "name": "stdout",
     "output_type": "stream",
     "text": [
      "found 18 files\n",
      "found 0 files\n",
      "found 0 files\n",
      "I've found a temporale file !\n",
      "found 1 files\n",
      "loading dat file\n",
      "I've found a temporale file !\n",
      "found 1 files\n",
      "loading dat file\n",
      "I've found a temporale file !\n",
      "found 1 files\n",
      "loading dat file\n",
      "found 15 files\n",
      "found 0 files\n",
      "found 0 files\n"
     ]
    }
   ],
   "source": [
    "# Scientific libraries\n",
    "import numpy as np\n",
    "import scipy\n",
    "\n",
    "\n",
    "# Graphic libraries\n",
    "%matplotlib notebook\n",
    "\n",
    "import matplotlib.pyplot as plt\n",
    "\n",
    "plt.style.use(\"presentation\")\n",
    "plt.rcParams[\"figure.figsize\"] = (4, 3)\n",
    "\n",
    "# Creating alias for magic commands\n",
    "\n",
    "# LPPview Classes\n",
    "from LPPview import *\n",
    "from LPPview.Classes.LPPic_temporal import History\n",
    "from LPPview.Classes.LPPic_fields import field\n",
    "from LPPview.Classes.LPPic_fields import field as Field\n",
    "from LPPview.Classes.LPPic_newwalls import newwalls as Newwalls\n",
    "from LPPview.Classes.LPPic_temporal import History\n",
    "\n",
    "from plasmapy.physics import Debye_length\n",
    "from plasmapy.physics import plasma_frequency\n",
    "from astropy import units as u\n",
    "\n",
    "from scipy.ndimage import gaussian_filter1d as smooth\n",
    "from scipy.ndimage import gaussian_filter\n",
    "\n",
    "from tqdm import tqdm_notebook as tqdm\n",
    "\n",
    "path_ref = \"/home/tavant/Data/266_Boeuf_166Thomas/\"\n",
    "path_L2 = \"/home/tavant/Data/158_Beauf_fakeR/\"\n",
    "path_L4 = \"/home/tavant/Data/163_Beauf_fakeR2/\"\n",
    "paths = [path_ref, path_L4, path_L2]\n",
    "names = [\"no $L_R$\", \"$L_R$=4cm\", \"$L_R$=2cm\"]\n",
    "colors = [\"k\",\"b\", \"r\"]\n",
    "fields = [Field(path) for path in paths ]\n",
    "histories = [History(path)for path in paths ]\n",
    "walls = [Newwalls(path) for path in paths ]\n",
    "\n"
   ]
  },
  {
   "cell_type": "markdown",
   "metadata": {},
   "source": [
    "# Last time step "
   ]
  },
  {
   "cell_type": "raw",
   "metadata": {},
   "source": [
    "with hp.File(wall._files[-1],'r') as fichier :\n",
    "        print(fichier[\"Y_inf\"].keys())"
   ]
  },
  {
   "cell_type": "code",
   "execution_count": 6,
   "metadata": {},
   "outputs": [],
   "source": [
    "import h5py as hp"
   ]
  },
  {
   "cell_type": "code",
   "execution_count": 24,
   "metadata": {},
   "outputs": [],
   "source": [
    "from scipy.ndimage import spline_filter1d, gaussian_filter1d, filters"
   ]
  },
  {
   "cell_type": "code",
   "execution_count": 25,
   "metadata": {},
   "outputs": [
    {
     "data": {
      "text/plain": [
       "\u001b[0;31mType:\u001b[0m        module\n",
       "\u001b[0;31mString form:\u001b[0m <module 'scipy.ndimage.filters' from '/opt/venv/lib/python3.7/site-packages/scipy/ndimage/filters.py'>\n",
       "\u001b[0;31mFile:\u001b[0m        /opt/venv/lib/python3.7/site-packages/scipy/ndimage/filters.py\n",
       "\u001b[0;31mDocstring:\u001b[0m   <no docstring>\n"
      ]
     },
     "metadata": {},
     "output_type": "display_data"
    }
   ],
   "source": [
    "filters.gaussian_filter1d"
   ]
  },
  {
   "cell_type": "code",
   "execution_count": 34,
   "metadata": {},
   "outputs": [],
   "source": [
    "from mpl_toolkits.axes_grid1.axes_divider import make_axes_locatable, Divider, AxesDivider\n",
    "from mpl_toolkits.axes_grid1.colorbar import colorbar"
   ]
  },
  {
   "cell_type": "code",
   "execution_count": 3,
   "metadata": {
    "ExecuteTime": {
     "end_time": "2019-08-29T11:01:34.103046Z",
     "start_time": "2019-08-29T11:01:34.055437Z"
    }
   },
   "outputs": [
    {
     "ename": "IndexError",
     "evalue": "list index out of range",
     "output_type": "error",
     "traceback": [
      "\u001b[0;31m---------------------------------------------------------------------------\u001b[0m",
      "\u001b[0;31mIndexError\u001b[0m                                Traceback (most recent call last)",
      "\u001b[0;32m<ipython-input-3-e19e7e3e6d69>\u001b[0m in \u001b[0;36m<module>\u001b[0;34m\u001b[0m\n\u001b[1;32m      5\u001b[0m \u001b[0;34m\u001b[0m\u001b[0m\n\u001b[1;32m      6\u001b[0m     \u001b[0;34m\"\"\"Plot the electron flux to the wall\"\"\"\u001b[0m\u001b[0;34m\u001b[0m\u001b[0;34m\u001b[0m\u001b[0m\n\u001b[0;32m----> 7\u001b[0;31m     \u001b[0mtab_wall\u001b[0m \u001b[0;34m=\u001b[0m \u001b[0mwall\u001b[0m\u001b[0;34m.\u001b[0m\u001b[0mreturn_fromkey\u001b[0m\u001b[0;34m(\u001b[0m\u001b[0mnt_10mu\u001b[0m\u001b[0;34m,\u001b[0m \u001b[0;34m\"Z_inf\"\u001b[0m\u001b[0;34m,\u001b[0m \u001b[0;34m\"ne\"\u001b[0m\u001b[0;34m)\u001b[0m\u001b[0;34m\u001b[0m\u001b[0;34m\u001b[0m\u001b[0m\n\u001b[0m\u001b[1;32m      8\u001b[0m     \u001b[0mtab_wall_corrected\u001b[0m \u001b[0;34m=\u001b[0m \u001b[0mgaussian_filter1d\u001b[0m\u001b[0;34m(\u001b[0m\u001b[0mtab_wall\u001b[0m\u001b[0;34m.\u001b[0m\u001b[0mT\u001b[0m\u001b[0;34m,\u001b[0m \u001b[0;36m3\u001b[0m\u001b[0;34m,\u001b[0m \u001b[0;34m)\u001b[0m  \u001b[0;31m# Issue with the CPU boundary conditions\u001b[0m\u001b[0;34m\u001b[0m\u001b[0;34m\u001b[0m\u001b[0m\n\u001b[1;32m      9\u001b[0m \u001b[0;34m\u001b[0m\u001b[0m\n",
      "\u001b[0;32m~/these/code/LPPview/LPPview/Classes/LPPic_newwalls.py\u001b[0m in \u001b[0;36mreturn_fromkey\u001b[0;34m(self, n_t, groupe, hdf_key)\u001b[0m\n\u001b[1;32m     33\u001b[0m         \"\"\"get the value from a hdfkey, a list of files, and the file index\n\u001b[1;32m     34\u001b[0m         \"\"\"\n\u001b[0;32m---> 35\u001b[0;31m         \u001b[0;32mwith\u001b[0m \u001b[0mhp\u001b[0m\u001b[0;34m.\u001b[0m\u001b[0mFile\u001b[0m\u001b[0;34m(\u001b[0m\u001b[0mself\u001b[0m\u001b[0;34m.\u001b[0m\u001b[0m_files\u001b[0m\u001b[0;34m[\u001b[0m\u001b[0mn_t\u001b[0m\u001b[0;34m]\u001b[0m\u001b[0;34m,\u001b[0m\u001b[0;34m'r'\u001b[0m\u001b[0;34m)\u001b[0m \u001b[0;32mas\u001b[0m \u001b[0mfichier\u001b[0m \u001b[0;34m:\u001b[0m\u001b[0;34m\u001b[0m\u001b[0;34m\u001b[0m\u001b[0m\n\u001b[0m\u001b[1;32m     36\u001b[0m             \u001b[0mtab\u001b[0m \u001b[0;34m=\u001b[0m \u001b[0mfichier\u001b[0m\u001b[0;34m[\u001b[0m\u001b[0mgroupe\u001b[0m\u001b[0;34m]\u001b[0m\u001b[0;34m[\u001b[0m\u001b[0mhdf_key\u001b[0m\u001b[0;34m]\u001b[0m\u001b[0;34m[\u001b[0m\u001b[0;34m(\u001b[0m\u001b[0;34m)\u001b[0m\u001b[0;34m]\u001b[0m\u001b[0;34m\u001b[0m\u001b[0;34m\u001b[0m\u001b[0m\n\u001b[1;32m     37\u001b[0m \u001b[0;34m\u001b[0m\u001b[0m\n",
      "\u001b[0;31mIndexError\u001b[0m: list index out of range"
     ]
    }
   ],
   "source": [
    "nt_10mu = 400\n",
    "\n",
    "for wall, field in zip(walls[1:], fields[1:]):\n",
    "    \n",
    "    \n",
    "    \"\"\"Plot the electron flux to the wall\"\"\"\n",
    "    tab_wall = wall.return_fromkey(nt_10mu, \"Z_inf\", \"ne\")\n",
    "    tab_wall_corrected = gaussian_filter1d(tab_wall.T, 3, )  # Issue with the CPU boundary conditions\n",
    "    \n",
    "    fig, axarr = plt.subplots(1, 2, figsize=(8, 3))\n",
    "    fig.subplots_adjust(top=0.9, bottom=0.2, right=0.99, left=0.08)\n",
    "\n",
    "    ax1, ax2 = axarr.flatten()\n",
    "    \n",
    "    im1 =ax1.imshow(tab_wall_corrected*1e-8,  extent=[0, field._Ly*100, 0, field._Lx*100])\n",
    "    \n",
    "    \n",
    "    \"\"\"Plot the electron Density\"\"\"\n",
    "    tab = field.return_fromkey(nt_10mu, \"Nume\")\n",
    "\n",
    "    im2 =ax2.imshow(tab*1e-17,  extent=[0, field._Ly*100, 0, field._Lx*100])\n",
    "    \n",
    "    \n",
    "    \"\"\"Put the legend on top\"\"\"\n",
    "    for ax, label, im in zip([ax1, ax2], [\"$10^{8}\\, \\\\Gamma_e$\", \"$10^{17} \\,n_e$\"], [im1, im2]):\n",
    "        ax2_divider = make_axes_locatable(ax, )\n",
    "        ax.text(1.3, 1.4, label, fontsize=11 )    \n",
    "\n",
    "        # add an axes above the main axes.\n",
    "        cax2 = ax2_divider.append_axes(\"top\", size=\"5%\", pad=\"7%\",)\n",
    "\n",
    "        cax2.set_axis_off()\n",
    "\n",
    "        box = cax2.get_position()\n",
    "        width = box.width\n",
    "        height = box.height\n",
    "\n",
    "        inax_position  = ax.transAxes.transform([0.5, 0.5])\n",
    "        transFigure = fig.transFigure.inverted()\n",
    "        infig_position = transFigure.transform(inax_position)   \n",
    "        x = infig_position[0]\n",
    "        y = infig_position[1]\n",
    "\n",
    "        cax2 = plt.axes([box.x0, 0.85, width*0.5, height*0.05])\n",
    "\n",
    "        cb2 = colorbar(im, cax=cax2, orientation=\"horizontal\", )\n",
    "        # change tick position to top. Tick position defaults to bottom and overlaps\n",
    "        # the image.\n",
    "        cax2.xaxis.set_ticks_position(\"top\")"
   ]
  },
  {
   "cell_type": "code",
   "execution_count": 59,
   "metadata": {},
   "outputs": [
    {
     "name": "stderr",
     "output_type": "stream",
     "text": [
      "/opt/venv/lib/python3.7/site-packages/ipykernel_launcher.py:11: RuntimeWarning: More than 20 figures have been opened. Figures created through the pyplot interface (`matplotlib.pyplot.figure`) are retained until explicitly closed and may consume too much memory. (To control this warning, see the rcParam `figure.max_open_warning`).\n",
      "  # This is added back by InteractiveShellApp.init_path()\n"
     ]
    },
    {
     "data": {
      "application/vnd.jupyter.widget-view+json": {
       "model_id": "c0956b46dc9b46c6bdfadd7044717495",
       "version_major": 2,
       "version_minor": 0
      },
      "text/plain": [
       "FigureCanvasNbAgg()"
      ]
     },
     "metadata": {},
     "output_type": "display_data"
    },
    {
     "name": "stderr",
     "output_type": "stream",
     "text": [
      "/opt/venv/lib/python3.7/site-packages/ipykernel_launcher.py:12: UserWarning: This figure was using constrained_layout==True, but that is incompatible with subplots_adjust and or tight_layout: setting constrained_layout==False. \n",
      "  if sys.path[0] == '':\n",
      "/opt/venv/lib/python3.7/site-packages/ipykernel_launcher.py:11: RuntimeWarning: More than 20 figures have been opened. Figures created through the pyplot interface (`matplotlib.pyplot.figure`) are retained until explicitly closed and may consume too much memory. (To control this warning, see the rcParam `figure.max_open_warning`).\n",
      "  # This is added back by InteractiveShellApp.init_path()\n"
     ]
    },
    {
     "data": {
      "application/vnd.jupyter.widget-view+json": {
       "model_id": "94e57a65e048488b84553487f845e34f",
       "version_major": 2,
       "version_minor": 0
      },
      "text/plain": [
       "FigureCanvasNbAgg()"
      ]
     },
     "metadata": {},
     "output_type": "display_data"
    },
    {
     "name": "stderr",
     "output_type": "stream",
     "text": [
      "/opt/venv/lib/python3.7/site-packages/ipykernel_launcher.py:12: UserWarning: This figure was using constrained_layout==True, but that is incompatible with subplots_adjust and or tight_layout: setting constrained_layout==False. \n",
      "  if sys.path[0] == '':\n"
     ]
    }
   ],
   "source": [
    "nt_10mu = 400\n",
    "\n",
    "for wall, field in zip(walls[1:], fields[1:]):\n",
    "    field.definecoords()\n",
    "    \n",
    "    \"\"\"Plot the electron flux to the wall\"\"\"\n",
    "    tab_wall = wall.return_fromkey(nt_10mu, \"Z_inf\", \"ne\")\n",
    "    tab_wall_corrected = gaussian_filter1d(tab_wall.T, 3, )\n",
    "    tab = field.return_fromkey(nt_10mu, \"Nume\")\n",
    "\n",
    "    fig, ax1 = plt.subplots(1, 1, figsize=(4, 3))\n",
    "    fig.subplots_adjust(top=0.9, bottom=0.2, right=0.99, left=0.08)\n",
    "    im = ax1.plot(field.tab_y, (tab_wall_corrected/tab).mean(axis=0))\n",
    "    \n",
    "    plt.xlabel(\"Axial position $z$ [cm]\")\n",
    "    plt.ylabel(\"Ration $\\\\Gamma_{e, R}/n_e$\")\n",
    "    plt.xlim(0, 2.5)\n",
    "    \n",
    "    mean_y = (tab_wall_corrected/tab).mean()\n",
    "    plt.ylim(0.5*mean_y, 1.5*mean_y)"
   ]
  },
  {
   "cell_type": "code",
   "execution_count": null,
   "metadata": {},
   "outputs": [],
   "source": []
  }
 ],
 "metadata": {
  "kernelspec": {
   "display_name": "Python 3",
   "language": "python",
   "name": "python3"
  },
  "language_info": {
   "codemirror_mode": {
    "name": "ipython",
    "version": 3
   },
   "file_extension": ".py",
   "mimetype": "text/x-python",
   "name": "python",
   "nbconvert_exporter": "python",
   "pygments_lexer": "ipython3",
   "version": "3.7.3"
  },
  "latex_envs": {
   "LaTeX_envs_menu_present": true,
   "autoclose": true,
   "autocomplete": false,
   "bibliofile": "biblio.bib",
   "cite_by": "apalike",
   "current_citInitial": 1,
   "eqLabelWithNumbers": true,
   "eqNumInitial": 1,
   "hotkeys": {
    "equation": "Ctrl-E",
    "itemize": "Ctrl-I"
   },
   "labels_anchors": false,
   "latex_user_defs": false,
   "report_style_numbering": false,
   "user_envs_cfg": false
  },
  "toc": {
   "base_numbering": 1,
   "nav_menu": {},
   "number_sections": true,
   "sideBar": true,
   "skip_h1_title": false,
   "title_cell": "Table of Contents",
   "title_sidebar": "Contents",
   "toc_cell": false,
   "toc_position": {},
   "toc_section_display": true,
   "toc_window_display": false
  },
  "varInspector": {
   "cols": {
    "lenName": 16,
    "lenType": 16,
    "lenVar": 40
   },
   "kernels_config": {
    "python": {
     "delete_cmd_postfix": "",
     "delete_cmd_prefix": "del ",
     "library": "var_list.py",
     "varRefreshCmd": "print(var_dic_list())"
    },
    "r": {
     "delete_cmd_postfix": ") ",
     "delete_cmd_prefix": "rm(",
     "library": "var_list.r",
     "varRefreshCmd": "cat(var_dic_list()) "
    }
   },
   "types_to_exclude": [
    "module",
    "function",
    "builtin_function_or_method",
    "instance",
    "_Feature"
   ],
   "window_display": false
  }
 },
 "nbformat": 4,
 "nbformat_minor": 2
}
