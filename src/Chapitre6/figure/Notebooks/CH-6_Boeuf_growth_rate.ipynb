{
 "cells": [
  {
   "cell_type": "markdown",
   "metadata": {},
   "source": [
    "# Boeuf results"
   ]
  },
  {
   "cell_type": "code",
   "execution_count": 5,
   "metadata": {},
   "outputs": [],
   "source": [
    "# Scientific libraries\n",
    "import numpy as np\n",
    "import scipy\n",
    "\n",
    "\n",
    "# Graphic libraries\n",
    "\n",
    "import matplotlib.pyplot as plt\n",
    "%matplotlib widget\n",
    "\n",
    "plt.style.use(\"presentation\")\n",
    "plt.rcParams[\"figure.figsize\"] = (4, 3)\n",
    "\n",
    "# Creating alias for magic commands\n",
    "\n",
    "# LPPview Classes\n",
    "from LPPview import *\n",
    "from LPPview.Classes.LPPic_temporal import History\n",
    "from LPPview.Classes.LPPic_fields import field\n",
    "from LPPview.Classes.LPPic_fields import field as Field\n",
    "from LPPview.Classes.LPPic_newwalls import newwalls as Newwalls\n",
    "from LPPview.Classes.LPPic_temporal import History\n",
    "\n",
    "from plasmapy.physics import Debye_length\n",
    "from plasmapy.physics import plasma_frequency\n",
    "from astropy import units as u\n",
    "\n",
    "from scipy.ndimage import gaussian_filter1d as smooth\n",
    "from scipy.ndimage import gaussian_filter\n",
    "\n",
    "from tqdm import tqdm_notebook as tqdm"
   ]
  },
  {
   "cell_type": "code",
   "execution_count": 2,
   "metadata": {},
   "outputs": [
    {
     "name": "stdout",
     "output_type": "stream",
     "text": [
      "found 498 files\n",
      "found 403 files\n",
      "found 772 files\n",
      "I've found a temporale file !\n",
      "found 1 files\n",
      "loading dat file\n",
      "I've found a temporale file !\n",
      "found 1 files\n",
      "loading dat file\n",
      "I've found a temporale file !\n",
      "found 1 files\n",
      "loading dat file\n",
      "found 497 files\n",
      "found 402 files\n",
      "found 771 files\n"
     ]
    }
   ],
   "source": [
    "path_ref = \"/DATA/tavant/266_Boeuf_166Thomas/\"\n",
    "path_L2 = \"/DATA/tavant/158_Beauf_fakeR/\"\n",
    "path_L4 = \"/DATA/tavant/163_Beauf_fakeR2/\"\n",
    "paths = [path_ref, path_L4, path_L2]\n",
    "names = [\"no $L_R$\", \"$L_R$=4cm\", \"$L_R$=2cm\"]\n",
    "colors = [\"k\",\"b\", \"r\"]\n",
    "fields = [Field(path) for path in paths ]\n",
    "histories = [History(path)for path in paths ]\n",
    "walls = [Newwalls(path) for path in paths ]\n",
    "\n"
   ]
  },
  {
   "cell_type": "markdown",
   "metadata": {},
   "source": [
    "# Wave energy density "
   ]
  },
  {
   "cell_type": "code",
   "execution_count": 3,
   "metadata": {},
   "outputs": [],
   "source": [
    "def return_wave_energy(field : fields, i=-1):\n",
    "    \"\"\"Return the wave energy:\n",
    "    $ W = 3 eps_0 | d E|^2 $\n",
    "    \n",
    "    By estimating dE = std(E) \\sqrt{2} \"\"\"\n",
    "    tab = field.return_fromkey(i, \"Ej(1)\")\n",
    "    \n",
    "    std_E = tab.std(axis=0)\n",
    "    \n",
    "    return 3*field.eps0*2*std_E**2"
   ]
  },
  {
   "cell_type": "code",
   "execution_count": 6,
   "metadata": {},
   "outputs": [
    {
     "data": {
      "application/vnd.jupyter.widget-view+json": {
       "model_id": "b5d84e0eb7cb48b6a0ba0e8d658cebc7",
       "version_major": 2,
       "version_minor": 0
      },
      "text/plain": [
       "Canvas(toolbar=Toolbar(toolitems=[('Home', 'Reset original view', 'home', 'home'), ('Back', 'Back to previous …"
      ]
     },
     "metadata": {},
     "output_type": "display_data"
    },
    {
     "data": {
      "text/plain": [
       "Text(0, 0.5, 'Wave energy $W$ [SI]')"
      ]
     },
     "execution_count": 6,
     "metadata": {},
     "output_type": "execute_result"
    }
   ],
   "source": [
    "fig, ax = plt.subplots(1, 1, figsize=(3.5, 3))\n",
    "\n",
    "vmax = 0\n",
    "for f, n in zip(fields, names):\n",
    "    value = return_wave_energy(f, -1)\n",
    "\n",
    "    plt.plot(value, label=n)\n",
    "\n",
    "ax.legend()    \n",
    "ax.set_xlabel(\"Axial position $z$ [cm]\")\n",
    "ax.set_ylabel(\"Wave energy $W$ [SI]\")\n",
    "\n",
    "#plt.savefig(\"Boeuf_Ex_snapshot.png\", dpi=400)"
   ]
  },
  {
   "cell_type": "markdown",
   "metadata": {},
   "source": [
    "# Wave amplitude evolution"
   ]
  },
  {
   "cell_type": "code",
   "execution_count": 7,
   "metadata": {},
   "outputs": [],
   "source": [
    "def return_W_2D_zt(field, nt_max=None):\n",
    "    \"\"\"return the spatio_temporal evolution of the wave energy\"\"\"\n",
    "    if nt_max is None:\n",
    "        nt_max = field._nT\n",
    "        \n",
    "    w_2D = np.zeros( shape=( nt_max, field._ymax+1))\n",
    "    \n",
    "    for i in tqdm(range(nt_max)):\n",
    "        value = return_wave_energy(field, i)\n",
    "        w_2D[i] = value\n",
    "        \n",
    "    return w_2D"
   ]
  },
  {
   "cell_type": "code",
   "execution_count": 9,
   "metadata": {},
   "outputs": [
    {
     "data": {
      "application/vnd.jupyter.widget-view+json": {
       "model_id": "f6aef5411a5d41fba45b5845fa7ab719",
       "version_major": 2,
       "version_minor": 0
      },
      "text/plain": [
       "IntSlider(value=0)"
      ]
     },
     "metadata": {},
     "output_type": "display_data"
    }
   ],
   "source": [
    "import ipywidgets as widgets\n",
    "widgets.IntSlider()"
   ]
  },
  {
   "cell_type": "code",
   "execution_count": 8,
   "metadata": {},
   "outputs": [
    {
     "data": {
      "application/vnd.jupyter.widget-view+json": {
       "model_id": "381b157391d94ec78cb34b9526a720d9",
       "version_major": 2,
       "version_minor": 0
      },
      "text/plain": [
       "HBox(children=(IntProgress(value=0, max=403), HTML(value='')))"
      ]
     },
     "metadata": {},
     "output_type": "display_data"
    },
    {
     "name": "stdout",
     "output_type": "stream",
     "text": [
      "\n"
     ]
    },
    {
     "data": {
      "application/vnd.jupyter.widget-view+json": {
       "model_id": "09d58d9fee5c45298c8c22165b74152e",
       "version_major": 2,
       "version_minor": 0
      },
      "text/plain": [
       "HBox(children=(IntProgress(value=0, max=403), HTML(value='')))"
      ]
     },
     "metadata": {},
     "output_type": "display_data"
    },
    {
     "name": "stdout",
     "output_type": "stream",
     "text": [
      "\n"
     ]
    },
    {
     "data": {
      "application/vnd.jupyter.widget-view+json": {
       "model_id": "56b18c49c01b41b0a2d1c08d85110386",
       "version_major": 2,
       "version_minor": 0
      },
      "text/plain": [
       "HBox(children=(IntProgress(value=0, max=403), HTML(value='')))"
      ]
     },
     "metadata": {},
     "output_type": "display_data"
    },
    {
     "name": "stdout",
     "output_type": "stream",
     "text": [
      "\n"
     ]
    }
   ],
   "source": [
    "nt_max = 9999\n",
    "for f in fields:\n",
    "    nt_max = min(nt_max, f._nT)\n",
    "    \n",
    "w2D_0, w2D_1, w2D_2 = [return_W_2D_zt(f, nt_max) for f in fields]\n"
   ]
  },
  {
   "cell_type": "code",
   "execution_count": 9,
   "metadata": {},
   "outputs": [
    {
     "data": {
      "application/vnd.jupyter.widget-view+json": {
       "model_id": "1a64af40cac64552ae3b9a589f3403fa",
       "version_major": 2,
       "version_minor": 0
      },
      "text/plain": [
       "FigureCanvasNbAgg()"
      ]
     },
     "metadata": {},
     "output_type": "display_data"
    },
    {
     "name": "stdout",
     "output_type": "stream",
     "text": [
      "0.04523853957653046\n"
     ]
    },
    {
     "data": {
      "application/vnd.jupyter.widget-view+json": {
       "model_id": "155d4203a8444bd48674ca968213fdc7",
       "version_major": 2,
       "version_minor": 0
      },
      "text/plain": [
       "FigureCanvasNbAgg()"
      ]
     },
     "metadata": {},
     "output_type": "display_data"
    },
    {
     "name": "stdout",
     "output_type": "stream",
     "text": [
      "0.04040058319864155\n"
     ]
    }
   ],
   "source": [
    "def W_2D_evolution(smooth_gaussian_2D=False):\n",
    "\n",
    "    fig, axarr = plt.subplots(1, 3, figsize=(8, 3))\n",
    "\n",
    "    icut = 10\n",
    "\n",
    "    nt_max = 900\n",
    "    for f in fields:\n",
    "        nt_max = min( nt_max, f._nT)\n",
    "\n",
    "    datas = [w2D_0, w2D_1, w2D_2]\n",
    "\n",
    "    if smooth_gaussian_2D :\n",
    "        datas = [ gaussian_filter(d, sigma=2, order=0) for d in datas]\n",
    "\n",
    "    vmax = max( [ np.ma.masked_invalid(np.abs(d)).max() for d in datas])\n",
    "    print(vmax)\n",
    "\n",
    "    vmax *= 0.5\n",
    "    for f, ax, n, data in zip(fields, axarr, names, datas):\n",
    "        f.definecoords()\n",
    "\n",
    "\n",
    "        im =ax.imshow(data/data.max(), extent=(0,f._Ly*100, 0, nt_max*f._dT*f._Na*1e6), vmin=0, vmax=1, cmap=\"plasma\")\n",
    "        ax.set_title(n, fontsize=12)\n",
    "\n",
    "\n",
    "        ax.set_xlabel(\"Axial position $z$ [cm]\")\n",
    "\n",
    "\n",
    "    axarr[0].set_ylabel(\"Time [$\\mu$s]\")\n",
    "    cb = plt.colorbar(im, ax=axarr[2], fraction=0.05, aspect=30, ticks=[0,1])\n",
    "    cb.ax.set_ylabel(\" Wave energy $W$ \")\n",
    "    #cb.ax.set_yticks([0,1])\n",
    "    cb.ax.set_yticklabels([\"min\", \"max\"])\n",
    "    fig.suptitle(\"Axial-temporal evolution of $W$\", fontsize=14)\n",
    "\n",
    "#plt.savefig(\"Boeuf_Ex_snapshot.png\", dpi=400)\n",
    "W_2D_evolution()\n",
    "plt.savefig(\"Boeuf_Fake_R_W.png\", dpi=400)\n",
    "\n",
    "\n",
    "W_2D_evolution(True)\n",
    "plt.savefig(\"Boeuf_Fake_R_W_smoothed.png\", dpi=400)\n",
    "\n"
   ]
  },
  {
   "cell_type": "code",
   "execution_count": 10,
   "metadata": {},
   "outputs": [
    {
     "data": {
      "text/latex": [
       "$15625 \\; \\mathrm{\\frac{m}{s}}$"
      ],
      "text/plain": [
       "<Quantity 15625. m / s>"
      ]
     },
     "execution_count": 10,
     "metadata": {},
     "output_type": "execute_result"
    }
   ],
   "source": [
    "axial_velocity = ( 2-   1.5 ) / (7.94-7.62) * u.cm/u.microsecond\n",
    "axial_velocity.to(u.m/u.second)"
   ]
  },
  {
   "cell_type": "code",
   "execution_count": 12,
   "metadata": {},
   "outputs": [
    {
     "data": {
      "application/vnd.jupyter.widget-view+json": {
       "model_id": "9d25c1cf72a445cfb7077bda06125b61",
       "version_major": 2,
       "version_minor": 0
      },
      "text/plain": [
       "FigureCanvasNbAgg()"
      ]
     },
     "metadata": {},
     "output_type": "display_data"
    },
    {
     "name": "stdout",
     "output_type": "stream",
     "text": [
      "0.04523853957653046\n"
     ]
    },
    {
     "data": {
      "application/vnd.jupyter.widget-view+json": {
       "model_id": "86eb6e4a07ad4ba8b87a7cc007f7625f",
       "version_major": 2,
       "version_minor": 0
      },
      "text/plain": [
       "FigureCanvasNbAgg()"
      ]
     },
     "metadata": {},
     "output_type": "display_data"
    },
    {
     "name": "stdout",
     "output_type": "stream",
     "text": [
      "0.04040058319864155\n"
     ]
    }
   ],
   "source": [
    "def W_2D_evolution(smooth_gaussian_2D=False):\n",
    "\n",
    "    fig, ax = plt.subplots(1, 1, figsize=(8, 3))\n",
    "\n",
    "    icut = 10\n",
    "\n",
    "    nt_max = 900\n",
    "    for f in fields:\n",
    "        nt_max = min( nt_max, f._nT)\n",
    "\n",
    "    datas = [w2D_0, w2D_1, w2D_2]\n",
    "\n",
    "    if smooth_gaussian_2D :\n",
    "        datas = [ gaussian_filter(d, sigma=2, order=0) for d in datas]\n",
    "\n",
    "    vmax = max( [ np.ma.masked_invalid(np.abs(d)).max() for d in datas])\n",
    "    print(vmax)\n",
    "\n",
    "    vmax *= 0.5\n",
    "    for f, n, data in zip(fields, names, datas):\n",
    "        f.definecoords()\n",
    "\n",
    "        ax.plot(f.tab_y, data[ 300:400, :].mean(axis=0), label=n)\n",
    "        #im =ax.imshow(data/data.max(), extent=(0,f._Ly*100, 0, nt_max*f._dT*f._Na*1e6), vmin=0, vmax=1, cmap=\"plasma\")\n",
    "    ax.legend( fontsize=12)\n",
    "\n",
    "\n",
    "    ax.set_xlabel(\"Axial position $z$ [cm]\")\n",
    "\n",
    "\n",
    "    ax.set_ylabel(\" Wave energy $W$ \")\n",
    "    fig.suptitle(\"Axial evolution of $W$\", fontsize=14)\n",
    "\n",
    "#plt.savefig(\"Boeuf_Ex_snapshot.png\", dpi=400)\n",
    "W_2D_evolution()\n",
    "\n",
    "\n",
    "W_2D_evolution(True)\n",
    "\n"
   ]
  },
  {
   "cell_type": "markdown",
   "metadata": {},
   "source": [
    "## Temporal evolution"
   ]
  },
  {
   "cell_type": "code",
   "execution_count": 57,
   "metadata": {},
   "outputs": [
    {
     "data": {
      "application/vnd.jupyter.widget-view+json": {
       "model_id": "853ca70e197c42adba4d08e7ac459f4f",
       "version_major": 2,
       "version_minor": 0
      },
      "text/plain": [
       "FigureCanvasNbAgg()"
      ]
     },
     "metadata": {},
     "output_type": "display_data"
    },
    {
     "name": "stdout",
     "output_type": "stream",
     "text": [
      "[80, 160, 300]\n"
     ]
    },
    {
     "name": "stderr",
     "output_type": "stream",
     "text": [
      "/opt/venv/lib/python3.7/site-packages/ipykernel_launcher.py:46: UserWarning: This figure was using constrained_layout==True, but that is incompatible with subplots_adjust and or tight_layout: setting constrained_layout==False. \n"
     ]
    },
    {
     "data": {
      "application/vnd.jupyter.widget-view+json": {
       "model_id": "1eb9a51a00eb4659aef5007d84687883",
       "version_major": 2,
       "version_minor": 0
      },
      "text/plain": [
       "FigureCanvasNbAgg()"
      ]
     },
     "metadata": {},
     "output_type": "display_data"
    },
    {
     "name": "stdout",
     "output_type": "stream",
     "text": [
      "[80, 160, 300]\n"
     ]
    },
    {
     "name": "stderr",
     "output_type": "stream",
     "text": [
      "/opt/venv/lib/python3.7/site-packages/ipykernel_launcher.py:46: UserWarning: This figure was using constrained_layout==True, but that is incompatible with subplots_adjust and or tight_layout: setting constrained_layout==False. \n"
     ]
    }
   ],
   "source": [
    "def W_evolution(smooth_gaussian_2D=False, z_cm_list=[0.4, 0.7, 1.5], scaled=False):\n",
    "\n",
    "    fig, axarr = plt.subplots(1, 3, figsize=(8, 3))\n",
    "\n",
    "    icut = 10\n",
    "\n",
    "    nt_max = 900\n",
    "    for f in fields:\n",
    "        nt_max = min( nt_max, f._nT)\n",
    "    tab_time = np.arange(0, nt_max)*fields[0]._dT*fields[0]._Na*1e6\n",
    "    \n",
    "    datas = [w2D_0, w2D_1, w2D_2]\n",
    "\n",
    "    if smooth_gaussian_2D :\n",
    "        datas = [ gaussian_filter(d, sigma=2, order=0) for d in datas]\n",
    "\n",
    "    z_cm_list = [0.4, 0.8, 1.5]\n",
    "    z_index_list = [int( z*1e-2 / fields[0]._dX) for z in z_cm_list]\n",
    "    print(z_index_list)\n",
    "    \n",
    "    dat_max = 0\n",
    "    for f, ax, n, data in zip(fields, axarr, names, datas):\n",
    "        f.definecoords()\n",
    "\n",
    "        for ax, z in zip(axarr, z_index_list):\n",
    "            ax.plot(tab_time, data[:, z], label=n)\n",
    "            dat_max = max(dat_max, data[:, z].max())\n",
    "            \n",
    "    for ax in axarr:\n",
    "        ax.set_xlabel(\"Time [$\\mu$s]\")\n",
    "        ax.set_xlim(0, 10)\n",
    "        \n",
    "        if scaled:\n",
    "            ax.set_ylim(top=dat_max*1.1)\n",
    "     \n",
    "    for ax, z in zip(axarr, z_cm_list):\n",
    "        ax.annotate(f\"z={z:2.1f} cm\", (6.5, 0.035))\n",
    "        \n",
    "    axarr[0].set_ylabel(\"Wave energy W [SI]\")\n",
    "    \n",
    "    axarr[1].legend(loc='upper center', bbox_to_anchor=(0.5, 1.2),\n",
    "                    ncol=3,\n",
    "                   # fancybox=True,\n",
    "                   # shadow=True,\n",
    "                   )\n",
    "    plt.subplots_adjust(wspace=0.3, bottom=0.2, top=0.85)    \n",
    "    \n",
    "#    fig.suptitle(\"Axial-temporal evolution of $W$\", fontsize=14)\n",
    "W_evolution(scaled=True)\n",
    "plt.savefig(\"Boeuf_Fake_R_W_temporal_smoothed.png\", dpi=400)\n",
    "\n",
    "W_evolution(smooth_gaussian_2D=True, scaled=True)\n",
    "\n",
    "plt.savefig(\"Boeuf_Fake_R_W_temporal_smoothed.png\", dpi=400)\n"
   ]
  },
  {
   "cell_type": "code",
   "execution_count": null,
   "metadata": {},
   "outputs": [],
   "source": []
  },
  {
   "cell_type": "markdown",
   "metadata": {},
   "source": [
    "# Wave group velocity"
   ]
  },
  {
   "cell_type": "code",
   "execution_count": 59,
   "metadata": {},
   "outputs": [
    {
     "data": {
      "application/vnd.jupyter.widget-view+json": {
       "model_id": "501cb49305934b489946faa10753ee50",
       "version_major": 2,
       "version_minor": 0
      },
      "text/plain": [
       "FigureCanvasNbAgg()"
      ]
     },
     "metadata": {},
     "output_type": "display_data"
    }
   ],
   "source": [
    "\n",
    "def return_vg(field:fields, i=-1):\n",
    "    \"\"\"The group velocity is the axial ion velocity\"\"\"\n",
    "    \n",
    "    Ji = field.return_fromkey(-1, \"Ji(2)\")\n",
    "    ni = field.return_fromkey(-1, \"Numi\")\n",
    "    \n",
    "    vi = Ji/(ni * field.qe)\n",
    "    \n",
    "    return vi.mean(axis=0)\n",
    "\n",
    "fig, ax = plt.subplots(1, 1, figsize=(3.5, 3))\n",
    "\n",
    "vmax = 0\n",
    "for f, n in zip(fields, names):\n",
    "    value = return_vg(f, -1)\n",
    "\n",
    "    plt.plot(f.tab_y, value*1e-3, label=n)\n",
    "\n",
    "ax.set_xlim(0, 2.5)    \n",
    "ax.set_xlabel(\"Axial position $z$ [cm]\")\n",
    "ax.set_ylabel(\"Group velocity $v_g$ [km/s]\")\n",
    "\n",
    "plt.legend()\n",
    "\n",
    "plt.savefig(\"Boeuf_v_g.png\", dpi=400)\n",
    "\n",
    "ax.axhline(axial_velocity.to(u.m/u.second).value*1e-3, linestyle=\"--\", c=\"k\", label=\"Axial velocity of $W$\")\n",
    "plt.legend()\n",
    "\n",
    "plt.savefig(\"Boeuf_v_g_with_observed.png\", dpi=400)\n"
   ]
  },
  {
   "cell_type": "markdown",
   "metadata": {},
   "source": [
    "# Growth rate from PIC"
   ]
  },
  {
   "cell_type": "code",
   "execution_count": 26,
   "metadata": {},
   "outputs": [],
   "source": [
    "def return_growth_rate_axial(field, i=-1, smooth_W=False, smooth_sigma=2):\n",
    "    \"\"\"Compute the growth rate \\gamma by Eq. 20 of Lafleur 2018:\n",
    "                     d_t W + \\div( v_g W)\n",
    "            \\gamma = --------------------\n",
    "                          2 W\n",
    "    \n",
    "    - d_t W is computed by upwind difference,\n",
    "     - \\div(v_g W) is computed by center difference\n",
    "    \"\"\"\n",
    "    \n",
    "    if i == -1 or i == field._nT-1:\n",
    "        i1 = i - 1\n",
    "        i2 = i\n",
    "    else:\n",
    "        i1 = i\n",
    "        i2 = i+1\n",
    "        \n",
    "    \n",
    "    W1 = return_wave_energy(field, i1)\n",
    "    \n",
    "    try:\n",
    "        W2 = return_wave_energy(field, i2)\n",
    "    except IndexError:\n",
    "        print(i2, field._nT)\n",
    "        raise RuntimeError\n",
    "    \n",
    "    if smooth_W :\n",
    "        W1 = smooth(W1, sigma=smooth_sigma)\n",
    "        W2 = smooth(W2, sigma=smooth_sigma)\n",
    "    \n",
    "    vg = return_vg(field, i1)\n",
    "    \n",
    "    dt_W = ( W2 - W1)/ (field._dT*field._Na)\n",
    "    \n",
    "    div_vgW = np.gradient(vg*W1, field._dX)\n",
    "    \n",
    "    return ( dt_W + div_vgW)/(2 * W1), dt_W\n",
    "    \n",
    "    "
   ]
  },
  {
   "cell_type": "markdown",
   "metadata": {},
   "source": [
    "## Axial profile at t=10 $\\mu$s"
   ]
  },
  {
   "cell_type": "code",
   "execution_count": 61,
   "metadata": {},
   "outputs": [
    {
     "data": {
      "application/vnd.jupyter.widget-view+json": {
       "model_id": "81abd072eca74d349d931e2c1c449c9f",
       "version_major": 2,
       "version_minor": 0
      },
      "text/plain": [
       "FigureCanvasNbAgg()"
      ]
     },
     "metadata": {},
     "output_type": "display_data"
    },
    {
     "name": "stdout",
     "output_type": "stream",
     "text": [
      "averaged over 2.500000 $\\mu$s\n",
      "averaged over 2.500000 $\\mu$s\n",
      "averaged over 2.500000 $\\mu$s\n"
     ]
    },
    {
     "data": {
      "text/plain": [
       "<matplotlib.legend.Legend at 0x7ff1de57aa20>"
      ]
     },
     "execution_count": 61,
     "metadata": {},
     "output_type": "execute_result"
    }
   ],
   "source": [
    "fig, ax = plt.subplots(1, 1, figsize=(3.5, 3))\n",
    "\n",
    "icut = 10\n",
    "\n",
    "nt0 = 400\n",
    "for f, n in zip(fields, names):\n",
    "    f.definecoords()\n",
    "    \n",
    "    value, dt_W = return_growth_rate_axial(f, nt0, smooth_W=True, smooth_sigma=5)\n",
    "    Nt_av = 100\n",
    "    print(f\"averaged over {Nt_av*f._dT*f._Na*1e6:f} $\\mu$s\")  \n",
    "\n",
    "    for i in range(1,Nt_av):\n",
    "        a, b= return_growth_rate_axial(f, nt0-i, smooth_W=True, smooth_sigma=5)\n",
    "        \n",
    "        value += a\n",
    "        dt_W += b\n",
    "        \n",
    "    value /= Nt_av\n",
    "    dt_W /= Nt_av\n",
    "    \n",
    "    \n",
    "    if True:\n",
    "        value = smooth(value, sigma=1)\n",
    "    \n",
    "    plt.plot(f.tab_y[icut: -1-icut], value[icut: -1-icut]*1e-6, label=n)\n",
    "\n",
    "\n",
    "ax.set_xlabel(\"Axial position $z$ [cm]\")\n",
    "ax.set_ylabel(\"Growth rate $\\gamma$ [$\\mu$s$^{-1}$]\")\n",
    "plt.legend()\n",
    "#plt.savefig(\"Boeuf_Ex_snapshot.png\", dpi=400)"
   ]
  },
  {
   "cell_type": "markdown",
   "metadata": {},
   "source": [
    "## Temporal evolution"
   ]
  },
  {
   "cell_type": "code",
   "execution_count": 63,
   "metadata": {},
   "outputs": [],
   "source": [
    "\n",
    "def temporal_evolution_2D(field, smooth_W=True, smooth_sigma=5, nt_max = None):\n",
    "    \"\"\"return the temporal evolution as a 2D table Z-t\"\"\"\n",
    "    \n",
    "    if nt_max is None:\n",
    "        nt_max = field._nT\n",
    "        \n",
    "    growthrate_2D = np.zeros((nt_max, field._ymax+1))\n",
    "    dtW_2D = np.zeros((nt_max, field._ymax+1))\n",
    "    \n",
    "    for i in tqdm(range(nt_max)):\n",
    "        gamma, dt_W = return_growth_rate_axial(field, i, smooth_W=smooth_W, smooth_sigma=smooth_sigma)\n",
    "        growthrate_2D[i] = gamma\n",
    "        dtW_2D[i] = dt_W\n",
    "        \n",
    "    return growthrate_2D, dtW_2D\n",
    "    \n",
    "    \n",
    "def temporal_evolution(field, z_cm=[0.7]):\n",
    "    \"\"\"return the temporal evolution at the positions choosen\"\"\"\n",
    "    pass"
   ]
  },
  {
   "cell_type": "code",
   "execution_count": 64,
   "metadata": {},
   "outputs": [
    {
     "data": {
      "application/vnd.jupyter.widget-view+json": {
       "model_id": "af53bc11ddfa4b59931143251dad8158",
       "version_major": 2,
       "version_minor": 0
      },
      "text/plain": [
       "HBox(children=(IntProgress(value=0, max=403), HTML(value='')))"
      ]
     },
     "metadata": {},
     "output_type": "display_data"
    },
    {
     "name": "stderr",
     "output_type": "stream",
     "text": [
      "/opt/venv/lib/python3.7/site-packages/ipykernel_launcher.py:37: RuntimeWarning: divide by zero encountered in true_divide\n"
     ]
    },
    {
     "name": "stdout",
     "output_type": "stream",
     "text": [
      "\n"
     ]
    },
    {
     "data": {
      "application/vnd.jupyter.widget-view+json": {
       "model_id": "eb8c6f3e66c34f11a6a5fb0c930634e0",
       "version_major": 2,
       "version_minor": 0
      },
      "text/plain": [
       "HBox(children=(IntProgress(value=0, max=403), HTML(value='')))"
      ]
     },
     "metadata": {},
     "output_type": "display_data"
    },
    {
     "name": "stdout",
     "output_type": "stream",
     "text": [
      "\n"
     ]
    },
    {
     "data": {
      "application/vnd.jupyter.widget-view+json": {
       "model_id": "1c656485dbbb4af992b87690b63f9ce1",
       "version_major": 2,
       "version_minor": 0
      },
      "text/plain": [
       "HBox(children=(IntProgress(value=0, max=403), HTML(value='')))"
      ]
     },
     "metadata": {},
     "output_type": "display_data"
    },
    {
     "name": "stdout",
     "output_type": "stream",
     "text": [
      "\n"
     ]
    }
   ],
   "source": [
    "nt_max = 900\n",
    "for f in fields:\n",
    "    nt_max = min( nt_max, f._nT)\n",
    "        \n",
    "growthrate_2D_0, dtW_2D_0 =  temporal_evolution_2D(fields[0], smooth_W=True, smooth_sigma=2, nt_max=nt_max)\n",
    "growthrate_2D_1, dtW_2D_1 =  temporal_evolution_2D(fields[1], smooth_W=True, smooth_sigma=2, nt_max=nt_max)\n",
    "growthrate_2D_2, dtW_2D_2 =  temporal_evolution_2D(fields[2], smooth_W=True, smooth_sigma=2, nt_max=nt_max)"
   ]
  },
  {
   "cell_type": "markdown",
   "metadata": {},
   "source": [
    "# 2D Axial-temporal evolutions"
   ]
  },
  {
   "cell_type": "markdown",
   "metadata": {},
   "source": [
    "## $\\partial_t W$"
   ]
  },
  {
   "cell_type": "code",
   "execution_count": 66,
   "metadata": {},
   "outputs": [
    {
     "data": {
      "application/vnd.jupyter.widget-view+json": {
       "model_id": "9117fda248924158945b72d8d9e26e61",
       "version_major": 2,
       "version_minor": 0
      },
      "text/plain": [
       "FigureCanvasNbAgg()"
      ]
     },
     "metadata": {},
     "output_type": "display_data"
    },
    {
     "name": "stdout",
     "output_type": "stream",
     "text": [
      "58700.21875\n"
     ]
    },
    {
     "data": {
      "application/vnd.jupyter.widget-view+json": {
       "model_id": "c913264c6c914060baa53660253ca973",
       "version_major": 2,
       "version_minor": 0
      },
      "text/plain": [
       "FigureCanvasNbAgg()"
      ]
     },
     "metadata": {},
     "output_type": "display_data"
    },
    {
     "name": "stdout",
     "output_type": "stream",
     "text": [
      "22364.13883131514\n"
     ]
    }
   ],
   "source": [
    "def dtW_2D_evolution(smooth_gaussian_2D=False):\n",
    "\n",
    "    fig, axarr = plt.subplots(1, 3, figsize=(8, 3))\n",
    "\n",
    "    icut = 10\n",
    "\n",
    "    nt_max = 900\n",
    "    for f in fields:\n",
    "        nt_max = min( nt_max, f._nT)\n",
    "\n",
    "    datas = [dtW_2D_0, dtW_2D_1, dtW_2D_2]\n",
    "\n",
    "    if smooth_gaussian_2D :\n",
    "        datas = [ gaussian_filter(d, sigma=2, order=0) for d in datas]\n",
    "\n",
    "    vmax = min( [ np.ma.masked_invalid(np.abs(d)).max() for d in datas])\n",
    "    print(vmax)\n",
    "\n",
    "    vmax *= 1\n",
    "    for f, ax, n, data in zip(fields, axarr, names, datas):\n",
    "        f.definecoords()\n",
    "\n",
    "\n",
    "        im =ax.imshow(data, extent=(0,f._Ly*100, 0, nt_max*f._dT*f._Na*1e6), vmin=-vmax, vmax=vmax, cmap=\"seismic\")\n",
    "        ax.set_title(n, fontsize=12)\n",
    "\n",
    "\n",
    "        ax.set_xlabel(\"Axial position $z$ [cm]\")\n",
    "\n",
    "\n",
    "    axarr[0].set_ylabel(\"Time [$\\mu$s]\")\n",
    "    cb = plt.colorbar(im, ax=axarr[2], fraction=0.05, aspect=30)\n",
    "    cb.ax.set_ylabel(\" $\\partial_t W$  [SI]\")\n",
    "    fig.suptitle(\"Axial-temporal evolution of $\\partial_t W$\", fontsize=14)\n",
    "\n",
    "#plt.savefig(\"Boeuf_Ex_snapshot.png\", dpi=400)\n",
    "dtW_2D_evolution()\n",
    "plt.savefig(\"Boeuf_Fake_R_dtW.png\", dpi=400)\n",
    "\n",
    "\n",
    "dtW_2D_evolution(True)\n",
    "plt.savefig(\"Boeuf_Fake_R_dtW_smoothed.png\", dpi=400)\n",
    "\n"
   ]
  },
  {
   "cell_type": "code",
   "execution_count": 67,
   "metadata": {},
   "outputs": [
    {
     "data": {
      "application/vnd.jupyter.widget-view+json": {
       "model_id": "dcbcf1155d014dcab4d10492f2d8d80b",
       "version_major": 2,
       "version_minor": 0
      },
      "text/plain": [
       "FigureCanvasNbAgg()"
      ]
     },
     "metadata": {},
     "output_type": "display_data"
    }
   ],
   "source": [
    "fig, axarr = plt.subplots(1, 3, figsize=(8, 3))\n",
    "smooth_gaussian_2D = True\n",
    "\n",
    "datas = datas = [dtW_2D_0, dtW_2D_1, dtW_2D_2]\n",
    "\n",
    "if smooth_gaussian_2D :\n",
    "    datas = [ gaussian_filter(d, sigma=5, order=0) for d in datas]\n",
    "    \n",
    "tab_time = np.arange(0, nt_max)*fields[0]._dT*fields[0]._Na*1e6\n",
    "\n",
    "z_cm_list = [0.4, 0.7, 1.5]\n",
    "z_index_list = [int( z*1e-2 / fields[0]._dX) for z in z_cm_list]\n",
    "\n",
    "for f, ax, n, data in zip(fields, axarr, names, datas):\n",
    "    f.definecoords()\n",
    "\n",
    "    for ax, z in zip(axarr, z_index_list):\n",
    "        ax.plot(tab_time, 1e-3*data[:, z], label=n)\n",
    "\n",
    "for ax, z in zip(axarr, z_cm_list):\n",
    "    ax.set_title(f\"Axial position $z={z}$ [cm]\", fontsize=11)\n",
    "        \n",
    "for ax in axarr:\n",
    "    ax.legend(labelspacing=0.02)\n",
    "    ax.set_xlabel(\"Time $t$ [$\\\\mu$s]\")\n",
    "    \n",
    "axarr[0].set_ylabel(\"$\\partial_t W$ [10$^{-3}$ SI]\")\n",
    "plt.savefig(\"Boeuf_dtW_toporal.pdf\")"
   ]
  },
  {
   "cell_type": "markdown",
   "metadata": {},
   "source": [
    "## Growth rate $\\gamma$"
   ]
  },
  {
   "cell_type": "code",
   "execution_count": 68,
   "metadata": {},
   "outputs": [
    {
     "data": {
      "application/vnd.jupyter.widget-view+json": {
       "model_id": "432a1d0828ef4722840ebaf4581a56a1",
       "version_major": 2,
       "version_minor": 0
      },
      "text/plain": [
       "FigureCanvasNbAgg()"
      ]
     },
     "metadata": {},
     "output_type": "display_data"
    },
    {
     "name": "stdout",
     "output_type": "stream",
     "text": [
      "16544924.0\n"
     ]
    },
    {
     "data": {
      "application/vnd.jupyter.widget-view+json": {
       "model_id": "b659fb92948145a99817efd444f69956",
       "version_major": 2,
       "version_minor": 0
      },
      "text/plain": [
       "FigureCanvasNbAgg()"
      ]
     },
     "metadata": {},
     "output_type": "display_data"
    },
    {
     "name": "stdout",
     "output_type": "stream",
     "text": [
      "8352663.68712751\n"
     ]
    }
   ],
   "source": [
    "\n",
    "def growth_rate_2D_evolution(smooth_gaussian_2D=False, datas=[growthrate_2D_0, growthrate_2D_1, growthrate_2D_2]):\n",
    "    fig, axarr = plt.subplots(1, 3, figsize=(8, 3))\n",
    "\n",
    "    icut = 10\n",
    "\n",
    "    nt_max = 900\n",
    "    for f in fields:\n",
    "        nt_max = min( nt_max, f._nT)\n",
    "        \n",
    "   \n",
    "\n",
    "    if smooth_gaussian_2D :\n",
    "        datas = [ gaussian_filter(d, sigma=2, order=0) for d in datas]\n",
    "    vmax = min( [ np.ma.masked_invalid(d).max() for d in datas ])\n",
    "    print(vmax)\n",
    "\n",
    "    vmax *= 1\n",
    "    for f, ax, n, data in zip(fields, axarr, names, datas):\n",
    "        f.definecoords()\n",
    "\n",
    "\n",
    "        im =ax.imshow(data*1e-6, extent=(0,f._Ly*100, 0, nt_max*f._dT*f._Na*1e6), vmin=-vmax*1e-6, vmax=vmax*1e-6, cmap=\"seismic\")\n",
    "        ax.set_title(n, fontsize=12)\n",
    "\n",
    "\n",
    "        ax.set_xlabel(\"Axial position $z$ [cm]\")\n",
    "\n",
    "\n",
    "    axarr[0].set_ylabel(\"Time [$\\mu$s]\")\n",
    "    cb = plt.colorbar(im, ax=axarr[2], fraction=0.05, aspect=30)\n",
    "    cb.ax.set_ylabel(\"Growth rate $\\gamma$  [$\\mu$s$^{-1}$]\")\n",
    "    fig.suptitle(\"Axial-temporal evolution of $\\gamma$\", fontsize=14)\n",
    "\n",
    "\n",
    "growth_rate_2D_evolution()\n",
    "plt.savefig(\"Boeuf_Fake_R_gamma.png\", dpi=400)\n",
    "\n",
    "growth_rate_2D_evolution(True)\n",
    "plt.savefig(\"Boeuf_Fake_R_gamma_smoothed.png\", dpi=400)\n"
   ]
  },
  {
   "cell_type": "code",
   "execution_count": 69,
   "metadata": {},
   "outputs": [
    {
     "data": {
      "application/vnd.jupyter.widget-view+json": {
       "model_id": "82026a48661f4f2f98b049a8a4023cef",
       "version_major": 2,
       "version_minor": 0
      },
      "text/plain": [
       "FigureCanvasNbAgg()"
      ]
     },
     "metadata": {},
     "output_type": "display_data"
    },
    {
     "name": "stdout",
     "output_type": "stream",
     "text": [
      "[80, 160, 300]\n"
     ]
    },
    {
     "name": "stderr",
     "output_type": "stream",
     "text": [
      "/opt/venv/lib/python3.7/site-packages/ipykernel_launcher.py:50: UserWarning: This figure was using constrained_layout==True, but that is incompatible with subplots_adjust and or tight_layout: setting constrained_layout==False. \n"
     ]
    },
    {
     "data": {
      "application/vnd.jupyter.widget-view+json": {
       "model_id": "730100296df84864b65ae3052401af02",
       "version_major": 2,
       "version_minor": 0
      },
      "text/plain": [
       "FigureCanvasNbAgg()"
      ]
     },
     "metadata": {},
     "output_type": "display_data"
    },
    {
     "name": "stdout",
     "output_type": "stream",
     "text": [
      "[80, 160, 300]\n"
     ]
    },
    {
     "name": "stderr",
     "output_type": "stream",
     "text": [
      "/opt/venv/lib/python3.7/site-packages/ipykernel_launcher.py:50: UserWarning: This figure was using constrained_layout==True, but that is incompatible with subplots_adjust and or tight_layout: setting constrained_layout==False. \n"
     ]
    }
   ],
   "source": [
    "def gamma_evolution(smooth_gaussian_2D=False, z_cm_list=[0.4, 0.7, 1.5], scaled=False, datas=[growthrate_2D_0, growthrate_2D_1, growthrate_2D_2]):\n",
    "\n",
    "    fig, axarr = plt.subplots(1, 3, figsize=(8, 3))\n",
    "\n",
    "    icut = 10\n",
    "\n",
    "    nt_max = 900\n",
    "    for f in fields:\n",
    "        nt_max = min( nt_max, f._nT)\n",
    "    tab_time = np.arange(0, nt_max)*fields[0]._dT*fields[0]._Na*1e6\n",
    "    \n",
    "    \n",
    "    \n",
    "    if smooth_gaussian_2D :\n",
    "        datas = [ gaussian_filter(d, sigma=2, order=0) for d in datas]\n",
    "        \n",
    "    datas = [ 1e-6*d for d in datas]\n",
    "\n",
    "    z_cm_list = [0.4, 0.8, 1.5]\n",
    "    z_index_list = [int( z*1e-2 / fields[0]._dX) for z in z_cm_list]\n",
    "    print(z_index_list)\n",
    "    \n",
    "    dat_max = 0\n",
    "    dat_min = 0\n",
    "    for f, ax, n, data in zip(fields, axarr, names, datas):\n",
    "        f.definecoords()\n",
    "\n",
    "        for ax, z in zip(axarr, z_index_list):\n",
    "            ax.plot(tab_time, data[:, z], label=n)\n",
    "            dat_max = max(dat_max, np.ma.masked_invalid(data[:, z]).max())\n",
    "            dat_min = min(dat_max, np.ma.masked_invalid(data[:, z]).min())\n",
    "            \n",
    "    for ax in axarr:\n",
    "        ax.set_xlabel(\"Time [$\\mu$s]\")\n",
    "        ax.set_xlim(0, 10)\n",
    "        \n",
    "        if scaled:\n",
    "            ax.set_ylim(bottom=1.1*dat_min, top=dat_max*1.1)\n",
    "     \n",
    "    for ax, z in zip(axarr, z_cm_list):\n",
    "        ax.annotate(f\"z={z:2.1f} cm\", (5, 5))\n",
    "        \n",
    "    axarr[0].set_ylabel(\"Growth rate $\\gamma$ [$\\mu$s$^{-1}$]\")\n",
    "    \n",
    "    axarr[1].legend(loc='upper center', bbox_to_anchor=(0.5, 1.2),\n",
    "                    ncol=3,\n",
    "                   # fancybox=True,\n",
    "                   # shadow=True,\n",
    "                   )\n",
    "    plt.subplots_adjust(wspace=0.3, bottom=0.2, top=0.85)    \n",
    "    \n",
    "#    fig.suptitle(\"Axial-temporal evolution of $W$\", fontsize=14)\n",
    "gamma_evolution(scaled=True)\n",
    "plt.savefig(\"Boeuf_Fake_R_gamma_temporal.pdf\")\n",
    "\n",
    "gamma_evolution(smooth_gaussian_2D=True, scaled=True)\n",
    "plt.savefig(\"Boeuf_Fake_R_gamma_temporal_smoothed.pdf\")\n",
    "\n"
   ]
  },
  {
   "cell_type": "markdown",
   "metadata": {},
   "source": [
    "## Axial profile of $\\gamma$"
   ]
  },
  {
   "cell_type": "code",
   "execution_count": 70,
   "metadata": {},
   "outputs": [
    {
     "data": {
      "application/vnd.jupyter.widget-view+json": {
       "model_id": "8ee4d424785b499d88bc8e5b2894032d",
       "version_major": 2,
       "version_minor": 0
      },
      "text/plain": [
       "FigureCanvasNbAgg()"
      ]
     },
     "metadata": {},
     "output_type": "display_data"
    },
    {
     "name": "stderr",
     "output_type": "stream",
     "text": [
      "/opt/venv/lib/python3.7/site-packages/ipykernel_launcher.py:3: RuntimeWarning: More than 20 figures have been opened. Figures created through the pyplot interface (`matplotlib.pyplot.figure`) are retained until explicitly closed and may consume too much memory. (To control this warning, see the rcParam `figure.max_open_warning`).\n",
      "  This is separate from the ipykernel package so we can avoid doing imports until\n"
     ]
    },
    {
     "data": {
      "application/vnd.jupyter.widget-view+json": {
       "model_id": "8e43d09da42b477ea9bb706d9577afe4",
       "version_major": 2,
       "version_minor": 0
      },
      "text/plain": [
       "FigureCanvasNbAgg()"
      ]
     },
     "metadata": {},
     "output_type": "display_data"
    }
   ],
   "source": [
    "def gamma_axial_evolution(smooth_gaussian_2D=False, scaled=False, tmin_mus=9, plot_zpos=False, datas =  [growthrate_2D_0, growthrate_2D_1, growthrate_2D_2]):\n",
    "\n",
    "    fig, ax = plt.subplots(1, 1, figsize=(3.5, 3))\n",
    "\n",
    "    icut = 10\n",
    "\n",
    "    nt_max = 900\n",
    "    for f in fields:\n",
    "        nt_max = min( nt_max, f._nT)\n",
    "        \n",
    "    tmin = int( tmin_mus *nt_max/10)\n",
    "\n",
    "    \n",
    "    \n",
    "    if smooth_gaussian_2D :\n",
    "        datas = [ gaussian_filter(d, sigma=2, order=0) for d in datas]\n",
    "        \n",
    "    datas = [ 1e-6*d for d in datas]\n",
    "    to_pots = [ d[tmin:, :].mean(axis=0) for d in datas]\n",
    "\n",
    "    z_cm_list = [0.4, 0.8, 1.5]\n",
    "    z_index_list = [int( z*1e-2 / fields[0]._dX) for z in z_cm_list]\n",
    "\n",
    "    \n",
    "    dat_max = 0\n",
    "    dat_min = 0\n",
    "    \n",
    "    for f, n, data in zip(fields, names, to_pots):\n",
    "        f.definecoords()\n",
    "        ax.plot(f.tab_y, data, label=n)\n",
    "        \n",
    "        dat_max = max(dat_max, np.ma.masked_invalid(data).max())\n",
    "        dat_min = min(dat_max, np.ma.masked_invalid(data).min())\n",
    "            \n",
    "    ax.set_xlabel(\"Axial position $z$ [cm]\")\n",
    "    ax.set_xlim(0, 2.5)\n",
    "        \n",
    "    if scaled:\n",
    "        ax.set_ylim(bottom=-0.5*dat_max, top=dat_max*1.1)\n",
    "     \n",
    "    if plot_zpos:\n",
    "        for z in z_cm_list:\n",
    "            ax.axvline(z, c='k', linestyle=\"--\", alpha=0.5)\n",
    "        \n",
    "    ax.set_ylabel(\"Growth rate $\\gamma$ [$\\mu$s$^{-1}$]\")\n",
    "    \n",
    "    #ax.legend(loc='upper center', bbox_to_anchor=(0.5, 1.2),\n",
    "    #               ncol=3,\n",
    "    #               # fancybox=True,\n",
    "    #               # shadow=True,\n",
    "    #               )\n",
    "    ax.legend()\n",
    "    #plt.subplots_adjust(wspace=0.3, bottom=0.2, top=0.85)    \n",
    "    \n",
    "#    fig.suptitle(\"Axial-temporal evolution of $W$\", fontsize=14)\n",
    "gamma_axial_evolution(scaled=True, tmin_mus=3)\n",
    "plt.savefig(\"Boeuf_Fake_R_gamma_axial.pdf\")\n",
    "\n",
    "gamma_axial_evolution(smooth_gaussian_2D=True, scaled=True, tmin_mus=3)\n",
    "plt.savefig(\"Boeuf_Fake_R_gamma_axial_smoothed.pdf\")\n",
    "\n"
   ]
  },
  {
   "cell_type": "markdown",
   "metadata": {},
   "source": [
    "# Integration of the growth rate\n",
    "\n",
    "In the stationnary case, we have\n",
    "$$ 2 \\gamma W = \\nabla \\cdot ( \\vec{v_g} W) $$\n",
    "\n",
    "Lets see if we can integrate it, and obtaine the same mean profile.\n",
    "\n",
    "Unfortunatly, we need a _seed_ to start."
   ]
  },
  {
   "cell_type": "code",
   "execution_count": 87,
   "metadata": {},
   "outputs": [],
   "source": [
    "def integrate_gamma(field, gamma_vect, z_cm_start=0, W_start=1):\n",
    "    \n",
    "        \n",
    "    v_g = return_vg(field)\n",
    "    dz = field._dX\n",
    "    z_ind_start = int(z_cm_start*1e-2 / dz)\n",
    "    \n",
    "    w_vector = np.zeros(field._ymax+1)\n",
    "    w_vector[z_ind_start] = W_start\n",
    "    \n",
    "    for z in range(z_ind_start+1, field._ymax+1):\n",
    "        w_vector[z] = (2*dz*gamma_vect[z-1] + v_g[z-1])*w_vector[z-1]/v_g[z]\n",
    "        \n",
    "    return w_vector\n"
   ]
  },
  {
   "cell_type": "code",
   "execution_count": 91,
   "metadata": {},
   "outputs": [
    {
     "name": "stderr",
     "output_type": "stream",
     "text": [
      "/opt/venv/lib/python3.7/site-packages/ipykernel_launcher.py:8: RuntimeWarning: More than 20 figures have been opened. Figures created through the pyplot interface (`matplotlib.pyplot.figure`) are retained until explicitly closed and may consume too much memory. (To control this warning, see the rcParam `figure.max_open_warning`).\n",
      "  \n"
     ]
    },
    {
     "data": {
      "application/vnd.jupyter.widget-view+json": {
       "model_id": "0db0a5a110b44df3815b5e267c077957",
       "version_major": 2,
       "version_minor": 0
      },
      "text/plain": [
       "FigureCanvasNbAgg()"
      ]
     },
     "metadata": {},
     "output_type": "display_data"
    },
    {
     "data": {
      "text/plain": [
       "Text(0.5, 1.0, 'Case no $L_R$, \\n integration between $t=7$ and $10\\\\mu$s')"
      ]
     },
     "execution_count": 91,
     "metadata": {},
     "output_type": "execute_result"
    }
   ],
   "source": [
    "tmin_mus = 7\n",
    "tmin_ind = int( tmin_mus*1e-6/(fields[0]._dT*fields[0]._Na) )\n",
    "gamma_vect = growthrate_2D_0[tmin_ind:, :].mean(axis=0)\n",
    "z_cm_start=0.05\n",
    "\n",
    "w_vector = integrate_gamma(fields[0], gamma_vect, z_cm_start=z_cm_start, W_start=1)\n",
    "\n",
    "plt.figure()\n",
    "plt.plot(fields[0].tab_y, w_vector, label=\"By integration\")\n",
    "\n",
    "PIC_W = w2D_0[tmin_ind:, :].mean(axis=0)\n",
    "plt.plot(fields[0].tab_y, PIC_W/PIC_W[int(z_cm_start*1e-2 / fields[0]._dX)], label=\"PIC measurement\")\n",
    "\n",
    "plt.ylabel(\"Wave energy $W$ normalized\")\n",
    "plt.ylabel(\"Axial position $z$ [cm]\")\n",
    "plt.legend()\n",
    "plt.title(\"Case no $L_R$, \\n integration between $t=7$ and $10\\mu$s\")"
   ]
  },
  {
   "cell_type": "markdown",
   "metadata": {},
   "source": [
    "# Ion accoutic wave growth rate\n",
    "Because the saturation may not be responssible for the observations, lets compare $\\gamma_{\\rm PIC}$ with the theory:\n",
    "$$\\gamma_{IAW} = \\sqrt{ \\frac{\\pi m_e}{8 m_i} } \\frac{ \\vec{k}\\cdot\\vec{u_e}}{ 1 + k^2 \\lambda_{De}^2)^{3/2}} $$\n",
    "\n",
    "Plausible hypotheses on $k$:\n",
    "1. _local parameters_ : The maximum growth rate correspond to the wavevector $k \\lambda_{De} = 1/\\sqrt{2}$\n",
    "2. _Convected wave_ : the wave rises in the maximum growing place (z ~ 0.5cm) then is transported."
   ]
  },
  {
   "cell_type": "code",
   "execution_count": 94,
   "metadata": {},
   "outputs": [],
   "source": [
    "from plasmapy.physics import Debye_length\n",
    "from plasmapy.physics import plasma_frequency\n",
    "from astropy import units as u\n",
    "\n"
   ]
  },
  {
   "cell_type": "code",
   "execution_count": 117,
   "metadata": {},
   "outputs": [],
   "source": [
    "def get_ue(run: Field):\n",
    "    \"\"\"return the mean azimuthal electron velocity\"\"\"\n",
    "    Je_x = np.array(run.meanfield(\"Je(1)\", mean_axis=\"x\", imin=280 ))\n",
    "    ne = np.array(run.meanfield(\"Nume\", mean_axis=\"x\", imin=280))\n",
    "    v_e =  Je_x/run.qe/ne\n",
    "    \n",
    "    return v_e\n",
    "\n",
    "def get_lde_wpi(f):\n",
    "    \n",
    "    ne_vect = f.meanfield(\"Nume\", \"x\")\n",
    "    Te_vect = f.meanfield(\"Eke(1)\", \"x\")\n",
    "    wpi_vect = plasma_frequency(ne_vect/u.m**3, particle=\"Xe+\")\n",
    "    lDe_vect = Debye_length(Te_vect*u.eV, ne_vect/u.m**3,)\n",
    "\n",
    "    return wpi_vect, lDe_vect"
   ]
  },
  {
   "cell_type": "code",
   "execution_count": 118,
   "metadata": {},
   "outputs": [
    {
     "data": {
      "text/plain": [
       "0.001276244958834093"
      ]
     },
     "execution_count": 118,
     "metadata": {},
     "output_type": "execute_result"
    }
   ],
   "source": [
    "field = fields[0]\n",
    "\n",
    "u_e = get_ue(field)\n",
    "wpi_vect, lDe_vect = get_lde_wpi(field)\n",
    "\n",
    "factor = np.sqrt(field.me * np.pi/(8*field.mi))\n",
    "factor"
   ]
  },
  {
   "cell_type": "markdown",
   "metadata": {},
   "source": [
    "## First hypothese: local wave"
   ]
  },
  {
   "cell_type": "code",
   "execution_count": 119,
   "metadata": {},
   "outputs": [],
   "source": [
    "\n",
    "def compute_gamma_IAW(field, case=1):\n",
    "    \n",
    "    u_e = -get_ue(field)\n",
    "    wpi_vect, lDe_vect = get_lde_wpi(field)\n",
    "\n",
    "    factor = np.sqrt(field.me * np.pi/(8*field.mi))\n",
    "\n",
    "    if case==1:\n",
    "        k_vect = 1/(np.sqrt(2) * lDe_vect.value)\n",
    "    elif case==2:\n",
    "        k_vect = np.ones_like(lDe_vect.value) *  1/(np.sqrt(2) * lDe_vect[int(0.5*1e-2/field._dX)].value)\n",
    "        \n",
    "\n",
    "    gamma_theo = factor * ( k_vect * u_e) / ( 1 + k_vect**2 * lDe_vect.value**2)**(3/2)\n",
    "    \n",
    "    return gamma_theo"
   ]
  },
  {
   "cell_type": "code",
   "execution_count": 120,
   "metadata": {},
   "outputs": [
    {
     "data": {
      "text/plain": [
       "280"
      ]
     },
     "execution_count": 120,
     "metadata": {},
     "output_type": "execute_result"
    }
   ],
   "source": [
    "tmin_ind"
   ]
  },
  {
   "cell_type": "code",
   "execution_count": 125,
   "metadata": {},
   "outputs": [
    {
     "name": "stderr",
     "output_type": "stream",
     "text": [
      "/opt/venv/lib/python3.7/site-packages/ipykernel_launcher.py:4: RuntimeWarning: More than 20 figures have been opened. Figures created through the pyplot interface (`matplotlib.pyplot.figure`) are retained until explicitly closed and may consume too much memory. (To control this warning, see the rcParam `figure.max_open_warning`).\n",
      "  after removing the cwd from sys.path.\n"
     ]
    },
    {
     "data": {
      "application/vnd.jupyter.widget-view+json": {
       "model_id": "a328301d1f3e45a7aeb8876f762e04cb",
       "version_major": 2,
       "version_minor": 0
      },
      "text/plain": [
       "FigureCanvasNbAgg()"
      ]
     },
     "metadata": {},
     "output_type": "display_data"
    },
    {
     "data": {
      "text/plain": [
       "(0, 2.5)"
      ]
     },
     "execution_count": 125,
     "metadata": {},
     "output_type": "execute_result"
    }
   ],
   "source": [
    "gamma_theo_IAW = compute_gamma_IAW(field)\n",
    "gamma_PIC = growthrate_2D_0[tmin_ind:, :].mean(axis=0)\n",
    "\n",
    "plt.figure()\n",
    "\n",
    "plt.plot(field.tab_y,1e-6* gamma_theo_IAW, label = \"Theo IAW\")\n",
    "\n",
    "plt.plot(field.tab_y,1e-6* gamma_PIC, label = \"PIC measurment\")\n",
    "plt.legend()\n",
    "plt.ylabel(\"Growth rate $\\gamma$ [$\\mu$s$^{-1}$]\")\n",
    "\n",
    "plt.xlabel(\"Azimuthal position $z$ [cm]\")\n",
    "plt.ylim(bottom=-5)\n",
    "plt.xlim(0, 2.5)"
   ]
  },
  {
   "cell_type": "code",
   "execution_count": 123,
   "metadata": {},
   "outputs": [
    {
     "name": "stderr",
     "output_type": "stream",
     "text": [
      "/opt/venv/lib/python3.7/site-packages/ipykernel_launcher.py:4: RuntimeWarning: More than 20 figures have been opened. Figures created through the pyplot interface (`matplotlib.pyplot.figure`) are retained until explicitly closed and may consume too much memory. (To control this warning, see the rcParam `figure.max_open_warning`).\n",
      "  after removing the cwd from sys.path.\n"
     ]
    },
    {
     "data": {
      "application/vnd.jupyter.widget-view+json": {
       "model_id": "760bda6c36fe4ae5a34fcdfa8c9960a2",
       "version_major": 2,
       "version_minor": 0
      },
      "text/plain": [
       "FigureCanvasNbAgg()"
      ]
     },
     "metadata": {},
     "output_type": "display_data"
    },
    {
     "data": {
      "text/plain": [
       "(0, 2.5)"
      ]
     },
     "execution_count": 123,
     "metadata": {},
     "output_type": "execute_result"
    }
   ],
   "source": [
    "gamma_theo_IAW = compute_gamma_IAW(field, case=2)\n",
    "gamma_PIC = growthrate_2D_0[tmin_ind:, :].mean(axis=0)\n",
    "\n",
    "plt.figure()\n",
    "\n",
    "plt.plot(field.tab_y, gamma_theo_IAW, label = \"Theo IAW\")\n",
    "\n",
    "plt.plot(field.tab_y, gamma_PIC, label = \"PIC measurment\")\n",
    "plt.legend()\n",
    "plt.ylabel(\"Growth rate $\\gamma$\")\n",
    "\n",
    "plt.xlabel(\"Azimuthal position $z$ [cm]\")\n",
    "plt.ylim(bottom=-0.5e7)\n",
    "plt.xlim(0, 2.5)"
   ]
  },
  {
   "cell_type": "code",
   "execution_count": null,
   "metadata": {},
   "outputs": [],
   "source": []
  },
  {
   "cell_type": "markdown",
   "metadata": {},
   "source": [
    "# All the same, but not smoothed\n",
    "let see what it can change"
   ]
  },
  {
   "cell_type": "code",
   "execution_count": 50,
   "metadata": {},
   "outputs": [
    {
     "data": {
      "application/vnd.jupyter.widget-view+json": {
       "model_id": "d2c16d29636a4a14a87c30a9f13e3495",
       "version_major": 2,
       "version_minor": 0
      },
      "text/plain": [
       "HBox(children=(IntProgress(value=0, max=403), HTML(value='')))"
      ]
     },
     "metadata": {},
     "output_type": "display_data"
    },
    {
     "name": "stderr",
     "output_type": "stream",
     "text": [
      "/opt/venv/lib/python3.7/site-packages/ipykernel_launcher.py:37: RuntimeWarning: divide by zero encountered in true_divide\n",
      "/opt/venv/lib/python3.7/site-packages/ipykernel_launcher.py:37: RuntimeWarning: invalid value encountered in true_divide\n"
     ]
    },
    {
     "name": "stdout",
     "output_type": "stream",
     "text": [
      "\n"
     ]
    },
    {
     "data": {
      "application/vnd.jupyter.widget-view+json": {
       "model_id": "361a7f7b0ef544bca7c8eefc221069bc",
       "version_major": 2,
       "version_minor": 0
      },
      "text/plain": [
       "HBox(children=(IntProgress(value=0, max=403), HTML(value='')))"
      ]
     },
     "metadata": {},
     "output_type": "display_data"
    },
    {
     "name": "stdout",
     "output_type": "stream",
     "text": [
      "\n"
     ]
    },
    {
     "data": {
      "application/vnd.jupyter.widget-view+json": {
       "model_id": "52c5a8aa09fe42da8b8c5b4daf8d63a7",
       "version_major": 2,
       "version_minor": 0
      },
      "text/plain": [
       "HBox(children=(IntProgress(value=0, max=403), HTML(value='')))"
      ]
     },
     "metadata": {},
     "output_type": "display_data"
    },
    {
     "name": "stdout",
     "output_type": "stream",
     "text": [
      "\n"
     ]
    }
   ],
   "source": [
    "nt_max = 900\n",
    "for f in fields:\n",
    "    nt_max = min( nt_max, f._nT)\n",
    "        \n",
    "growthrate_2D_0_raw, dtW_2D_0_raw =  temporal_evolution_2D(fields[0], smooth_W=False, smooth_sigma=2, nt_max=nt_max)\n",
    "growthrate_2D_1_raw, dtW_2D_1_raw =  temporal_evolution_2D(fields[1], smooth_W=False, smooth_sigma=2, nt_max=nt_max)\n",
    "growthrate_2D_2_raw, dtW_2D_2_raw =  temporal_evolution_2D(fields[2], smooth_W=False, smooth_sigma=2, nt_max=nt_max)"
   ]
  },
  {
   "cell_type": "code",
   "execution_count": 126,
   "metadata": {},
   "outputs": [
    {
     "name": "stderr",
     "output_type": "stream",
     "text": [
      "/opt/venv/lib/python3.7/site-packages/ipykernel_launcher.py:3: RuntimeWarning: More than 20 figures have been opened. Figures created through the pyplot interface (`matplotlib.pyplot.figure`) are retained until explicitly closed and may consume too much memory. (To control this warning, see the rcParam `figure.max_open_warning`).\n",
      "  This is separate from the ipykernel package so we can avoid doing imports until\n"
     ]
    },
    {
     "data": {
      "application/vnd.jupyter.widget-view+json": {
       "model_id": "b6dbac95fee843b6b43f26cc45222b79",
       "version_major": 2,
       "version_minor": 0
      },
      "text/plain": [
       "FigureCanvasNbAgg()"
      ]
     },
     "metadata": {},
     "output_type": "display_data"
    },
    {
     "name": "stdout",
     "output_type": "stream",
     "text": [
      "37198852.0\n"
     ]
    },
    {
     "name": "stderr",
     "output_type": "stream",
     "text": [
      "/opt/venv/lib/python3.7/site-packages/ipykernel_launcher.py:3: RuntimeWarning: More than 20 figures have been opened. Figures created through the pyplot interface (`matplotlib.pyplot.figure`) are retained until explicitly closed and may consume too much memory. (To control this warning, see the rcParam `figure.max_open_warning`).\n",
      "  This is separate from the ipykernel package so we can avoid doing imports until\n"
     ]
    },
    {
     "data": {
      "application/vnd.jupyter.widget-view+json": {
       "model_id": "84477e36a352485c958789fd9027fd68",
       "version_major": 2,
       "version_minor": 0
      },
      "text/plain": [
       "FigureCanvasNbAgg()"
      ]
     },
     "metadata": {},
     "output_type": "display_data"
    },
    {
     "name": "stdout",
     "output_type": "stream",
     "text": [
      "8863891.944182301\n"
     ]
    }
   ],
   "source": [
    "datas_raw=[growthrate_2D_0_raw, growthrate_2D_1_raw, growthrate_2D_2_raw ]\n",
    "\n",
    "growth_rate_2D_evolution(smooth_gaussian_2D=False, datas=datas_raw)\n",
    "growth_rate_2D_evolution(smooth_gaussian_2D=True, datas=datas_raw)"
   ]
  },
  {
   "cell_type": "code",
   "execution_count": 120,
   "metadata": {},
   "outputs": [
    {
     "data": {
      "application/vnd.jupyter.widget-view+json": {
       "model_id": "fe7652bc72e24fa5b10217e3bdea854d",
       "version_major": 2,
       "version_minor": 0
      },
      "text/plain": [
       "FigureCanvasNbAgg()"
      ]
     },
     "metadata": {},
     "output_type": "display_data"
    },
    {
     "data": {
      "application/vnd.jupyter.widget-view+json": {
       "model_id": "61df3777f3dc4e6186ac5c2ee87c7211",
       "version_major": 2,
       "version_minor": 0
      },
      "text/plain": [
       "FigureCanvasNbAgg()"
      ]
     },
     "metadata": {},
     "output_type": "display_data"
    }
   ],
   "source": [
    "\n",
    "gamma_axial_evolution(scaled=True, tmin_mus=3, datas=datas_raw)\n",
    "\n",
    "gamma_axial_evolution(smooth_gaussian_2D=True, scaled=True, tmin_mus=3, datas=datas_raw)"
   ]
  },
  {
   "cell_type": "code",
   "execution_count": 123,
   "metadata": {},
   "outputs": [
    {
     "name": "stderr",
     "output_type": "stream",
     "text": [
      "/opt/venv/lib/python3.7/site-packages/ipykernel_launcher.py:3: RuntimeWarning: More than 20 figures have been opened. Figures created through the pyplot interface (`matplotlib.pyplot.figure`) are retained until explicitly closed and may consume too much memory. (To control this warning, see the rcParam `figure.max_open_warning`).\n",
      "  This is separate from the ipykernel package so we can avoid doing imports until\n"
     ]
    },
    {
     "data": {
      "application/vnd.jupyter.widget-view+json": {
       "model_id": "67f6b94aa92645f2a51d695ba454f762",
       "version_major": 2,
       "version_minor": 0
      },
      "text/plain": [
       "FigureCanvasNbAgg()"
      ]
     },
     "metadata": {},
     "output_type": "display_data"
    },
    {
     "name": "stdout",
     "output_type": "stream",
     "text": [
      "[80, 160, 300]\n"
     ]
    },
    {
     "name": "stderr",
     "output_type": "stream",
     "text": [
      "/opt/venv/lib/python3.7/site-packages/ipykernel_launcher.py:50: UserWarning: This figure was using constrained_layout==True, but that is incompatible with subplots_adjust and or tight_layout: setting constrained_layout==False. \n"
     ]
    }
   ],
   "source": [
    "gamma_evolution(smooth_gaussian_2D=True, z_cm_list=[0.4, 0.8, 1.6], scaled=True, datas=datas_raw)"
   ]
  },
  {
   "cell_type": "code",
   "execution_count": null,
   "metadata": {},
   "outputs": [],
   "source": []
  }
 ],
 "metadata": {
  "kernelspec": {
   "display_name": "Python 3",
   "language": "python",
   "name": "python3"
  },
  "language_info": {
   "codemirror_mode": {
    "name": "ipython",
    "version": 3
   },
   "file_extension": ".py",
   "mimetype": "text/x-python",
   "name": "python",
   "nbconvert_exporter": "python",
   "pygments_lexer": "ipython3",
   "version": "3.7.4"
  }
 },
 "nbformat": 4,
 "nbformat_minor": 4
}
