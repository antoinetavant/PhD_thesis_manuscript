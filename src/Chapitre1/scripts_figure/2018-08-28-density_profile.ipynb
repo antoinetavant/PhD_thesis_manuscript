{
 "cells": [
  {
   "cell_type": "markdown",
   "metadata": {},
   "source": [
    "Density profile"
   ]
  },
  {
   "cell_type": "code",
   "execution_count": 1,
   "metadata": {
    "ExecuteTime": {
     "end_time": "2018-08-28T08:30:06.225697Z",
     "start_time": "2018-08-28T08:30:05.729744Z"
    }
   },
   "outputs": [],
   "source": [
    "#imports libs and data\n",
    "%matplotlib inline\n",
    "import pickle, json, numpy as np, matplotlib as mpl,  matplotlib.pyplot as plt, warnings\n",
    "warnings.filterwarnings(\"ignore\")\n",
    "import Classes.LPPic_fields as fl\n",
    "\n",
    "import matplotlib as mpl\n",
    "Paper_style = json.load(open(\"Paperstyle.json\",'r'))\n",
    "mpl.style.use(Paper_style)\n",
    "\n",
    "from scipy.ndimage.filters import gaussian_filter1d as smooth\n",
    "\n",
    "qe = 1.6021766E-19\n",
    "me =  9.109E-31 \n",
    "mi = 219.6E-27\n",
    "eps0 = 8.854187817e-12\n",
    "\n",
    "savepath = \"../images/\"\n",
    "\n",
    "sigma_0 = 0.5\n",
    "sigma_max= 2.9"
   ]
  },
  {
   "cell_type": "code",
   "execution_count": 2,
   "metadata": {
    "ExecuteTime": {
     "end_time": "2018-08-28T08:33:25.648360Z",
     "start_time": "2018-08-28T08:33:25.639772Z"
    }
   },
   "outputs": [],
   "source": [
    "path = \"/home/tavant/Data/R_theta/136_LongX/\""
   ]
  },
  {
   "cell_type": "code",
   "execution_count": 3,
   "metadata": {
    "ExecuteTime": {
     "end_time": "2018-08-28T08:33:43.349001Z",
     "start_time": "2018-08-28T08:33:42.745192Z"
    }
   },
   "outputs": [
    {
     "name": "stdout",
     "output_type": "stream",
     "text": [
      "found 3386 files\n"
     ]
    }
   ],
   "source": [
    "run = fl.field(path)"
   ]
  },
  {
   "cell_type": "code",
   "execution_count": 7,
   "metadata": {
    "ExecuteTime": {
     "end_time": "2018-08-28T08:46:27.446815Z",
     "start_time": "2018-08-28T08:46:27.442462Z"
    }
   },
   "outputs": [],
   "source": [
    "ne = run.meanfield(\"Nume\", \"x\")\n",
    "ni = run.meanfield(\"Numi\", \"x\")"
   ]
  },
  {
   "cell_type": "code",
   "execution_count": 12,
   "metadata": {
    "ExecuteTime": {
     "end_time": "2018-08-28T09:03:53.077627Z",
     "start_time": "2018-08-28T09:03:52.279856Z"
    }
   },
   "outputs": [
    {
     "data": {
      "image/png": "[encoded data removed]",
      "text/plain": [
       "<Figure size 252x252 with 1 Axes>"
      ]
     },
     "metadata": {},
     "output_type": "display_data"
    }
   ],
   "source": [
    "run.definecoords()\n",
    "fig = plt.figure(figsize=(3.5,3.5))\n",
    "\n",
    "plt.plot(run.tab_y,ne, label = \"$n_e$\")\n",
    "plt.plot(run.tab_y,ni, label = \"$n_i$\")\n",
    "plt.xlim(0,2)\n",
    "plt.ylim(ymin=0)\n",
    "plt.xlabel(\"radial position $x$ [cm]\")\n",
    "plt.ylabel(r\"Density [m$^{-3}$]\")\n",
    "plt.legend(loc=8)\n",
    "plt.grid(True)\n",
    "\n",
    "plt.savefig(\"../images/density_profile.pdf\")"
   ]
  },
  {
   "cell_type": "code",
   "execution_count": null,
   "metadata": {},
   "outputs": [],
   "source": []
  }
 ],
 "metadata": {
  "hide_input": false,
  "kernelspec": {
   "display_name": "Python 3",
   "language": "python",
   "name": "python3"
  },
  "language_info": {
   "codemirror_mode": {
    "name": "ipython",
    "version": 3
   },
   "file_extension": ".py",
   "mimetype": "text/x-python",
   "name": "python",
   "nbconvert_exporter": "python",
   "pygments_lexer": "ipython3",
   "version": "3.7.3"
  },
  "latex_envs": {
   "LaTeX_envs_menu_present": true,
   "autoclose": false,
   "autocomplete": true,
   "bibliofile": "biblio.bib",
   "cite_by": "apalike",
   "current_citInitial": 1,
   "eqLabelWithNumbers": true,
   "eqNumInitial": 1,
   "hotkeys": {
    "equation": "Ctrl-E",
    "itemize": "Ctrl-I"
   },
   "labels_anchors": false,
   "latex_user_defs": false,
   "report_style_numbering": false,
   "user_envs_cfg": false
  },
  "toc": {
   "base_numbering": 1,
   "nav_menu": {},
   "number_sections": true,
   "sideBar": true,
   "skip_h1_title": false,
   "title_cell": "Table of Contents",
   "title_sidebar": "Contents",
   "toc_cell": false,
   "toc_position": {},
   "toc_section_display": true,
   "toc_window_display": false
  },
  "varInspector": {
   "cols": {
    "lenName": 16,
    "lenType": 16,
    "lenVar": 40
   },
   "kernels_config": {
    "python": {
     "delete_cmd_postfix": "",
     "delete_cmd_prefix": "del ",
     "library": "var_list.py",
     "varRefreshCmd": "print(var_dic_list())"
    },
    "r": {
     "delete_cmd_postfix": ") ",
     "delete_cmd_prefix": "rm(",
     "library": "var_list.r",
     "varRefreshCmd": "cat(var_dic_list()) "
    }
   },
   "types_to_exclude": [
    "module",
    "function",
    "builtin_function_or_method",
    "instance",
    "_Feature"
   ],
   "window_display": false
  }
 },
 "nbformat": 4,
 "nbformat_minor": 2
}
