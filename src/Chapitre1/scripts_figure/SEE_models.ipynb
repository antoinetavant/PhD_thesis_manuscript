{
 "cells": [
  {
   "cell_type": "code",
   "execution_count": 1,
   "metadata": {
    "ExecuteTime": {
     "end_time": "2019-07-31T15:14:13.129928Z",
     "start_time": "2019-07-31T15:14:12.886499Z"
    },
    "code_folding": []
   },
   "outputs": [],
   "source": [
    "#importing\n",
    "import numpy as np\n",
    "import matplotlib.pyplot as plt\n",
    "%matplotlib inline\n",
    "from functions import (maxwE)\n",
    "\n",
    "import matplotlib as mpl\n",
    "Paper_style = json.load(open(\"Paperstyle.json\",'r'))\n",
    "mpl.style.use(Paper_style)\n",
    "\n",
    "sigma_0 = 0.5\n",
    "sigma_max= 2.9"
   ]
  },
  {
   "cell_type": "code",
   "execution_count": 2,
   "metadata": {
    "ExecuteTime": {
     "end_time": "2019-07-31T15:14:15.394026Z",
     "start_time": "2019-07-31T15:14:15.381192Z"
    }
   },
   "outputs": [],
   "source": [
    "def is_main_module():\n",
    "    \"\"\"\n",
    "    Returns whether this notebook is the main module\n",
    "    ie not being run from another notebook\n",
    "    \"\"\"\n",
    "    return __name__ == '__main__' and '__file__' not in globals()"
   ]
  },
  {
   "cell_type": "code",
   "execution_count": 6,
   "metadata": {
    "ExecuteTime": {
     "end_time": "2019-07-31T15:14:55.429254Z",
     "start_time": "2019-07-31T15:14:55.395428Z"
    }
   },
   "outputs": [],
   "source": [
    "#plot functions\n",
    "def subs(Nsub = 1):\n",
    "    \n",
    "    fig, axarr = plt.subplots(1,Nsub,figsize = (Nsub*4,3))\n",
    "\n",
    "    if Nsub == 1:\n",
    "        axarr = [axarr]\n",
    "        \n",
    "    return fig, axarr\n",
    "\n",
    "def axLabels(ax,title,xlabel,ylabel):\n",
    "    \n",
    "    ax.set_title(title)\n",
    "    ax.set_xlabel(xlabel)\n",
    "    ax.set_ylabel(ylabel)\n",
    "    ax.legend()"
   ]
  },
  {
   "cell_type": "code",
   "execution_count": 7,
   "metadata": {
    "ExecuteTime": {
     "end_time": "2019-07-31T15:14:55.743145Z",
     "start_time": "2019-07-31T15:14:55.729186Z"
    }
   },
   "outputs": [],
   "source": [
    "def sig_lin(eps, epsstar):\n",
    "    sigma_0 = 0.578\n",
    "    s = sigma_0 + (1-sigma_0)*eps/epsstar\n",
    "    s[s > sigma_max] = sigma_max\n",
    "    return s\n",
    "\n",
    "def sig_vau(eps, epsstar):\n",
    "    wmax = 500\n",
    "    w0 = 12\n",
    "    ks = 1\n",
    "    k = np.ones_like(eps)*0.62\n",
    "    k[eps > wmax] = 0.25\n",
    "    v = (eps - w0)/(wmax - w0)\n",
    "    \n",
    "    s = sigma_max * (v*np.exp(1-v))**k\n",
    "    \n",
    "    return s"
   ]
  },
  {
   "cell_type": "code",
   "execution_count": 11,
   "metadata": {
    "ExecuteTime": {
     "end_time": "2019-07-31T15:16:05.191605Z",
     "start_time": "2019-07-31T15:16:04.025533Z"
    }
   },
   "outputs": [
    {
     "data": {
      "image/png": "[encoded data removed]",
      "text/plain": [
       "<Figure size 288x216 with 2 Axes>"
      ]
     },
     "metadata": {
      "needs_background": "light"
     },
     "output_type": "display_data"
    }
   ],
   "source": [
    "#plot SEE models\n",
    "def plot_SEE_model():\n",
    "    fig, axarr = subs(Nsub = 1)\n",
    "\n",
    "    xmin, xmax = 0,400\n",
    "    ymin, ymax = 0,3\n",
    "    e = np.linspace(xmin, xmax,int(xmax))\n",
    "    epsstar = 35\n",
    "    ax = axarr[0]\n",
    "    ax.plot(e[0],sig_lin(e,epsstar)[0], )\n",
    "    ax.plot(e,sig_lin(e,epsstar), label = \"$\\\\sigma$\")\n",
    "    # ax.plot(e,sig_vau(e,epsstar), label = \"Vaughan model\")\n",
    "\n",
    "\n",
    "    ax.text(epsstar*0.9,-0.2,r\"$\\epsilon^*$\")\n",
    "\n",
    "    ax2 = ax.twinx()\n",
    "    ax2.grid(False)\n",
    "    ax2.set_ylabel(\"Normalized EEDF $f_{e,\\\\rm Maxw}(\\epsilon) \\\\/ [a.u.] $\")\n",
    "\n",
    "    fe = maxwE(e,45/2, False)\n",
    "    ax2.fill(e,fe/fe.max(), alpha = 0.3, label = \"$f_{e,\\\\rm Maxw}(\\epsilon) $\", zorder = 5)\n",
    "\n",
    "    # Legend order\n",
    "    ax.set_zorder(ax2.get_zorder()+1)    #put the first axis on top in order to have the legend on top\n",
    "    ax.patch.set_visible(False)          # hide the 'canvas' to make the \n",
    "\n",
    "    title = \"\" #\"SEE probalility with $\\epsilon$\"\n",
    "    ylabel = \"Emission probability $\\sigma$ \"\n",
    "    xlabel = \"Electron incident energy $\\epsilon\\/ [V]$\"\n",
    "    axLabels(ax,title,xlabel,ylabel)\n",
    "\n",
    "    #only one legend with the maxwellian legend:\n",
    "    if True:\n",
    "        h1, l1 = ax.get_legend_handles_labels()\n",
    "        h2, l2 = ax2.get_legend_handles_labels()\n",
    "        l = ax.legend(h1+h2, l1+l2, loc = 'center right' )\n",
    "    else:\n",
    "        l = ax.legend(loc = 'center right' )\n",
    "    l.set_zorder(2)  # put the legend on top\n",
    "\n",
    "    ax.set_xlim(xmin,xmax)\n",
    "    ax.set_ylim(ymin =0)\n",
    "    ax2.set_ylim(ymin =0)\n",
    "    Ymin, Ymax = ax.get_ylim()\n",
    "    ax.vlines(epsstar,Ymin,Ymax, linestyles=\"--\", colors='gray', linewidth = 1)\n",
    "\n",
    "plot_SEE_model()\n",
    "plt.savefig(\"../SEE_models.pdf\")"
   ]
  },
  {
   "cell_type": "code",
   "execution_count": 13,
   "metadata": {
    "ExecuteTime": {
     "end_time": "2019-07-31T15:16:24.372261Z",
     "start_time": "2019-07-31T15:16:24.354946Z"
    },
    "code_folding": [
     0
    ]
   },
   "outputs": [],
   "source": [
    "def get_data(fname):\n",
    "\n",
    "    SeeV = np.loadtxt(fname,dtype=np.str, delimiter=\";\")\n",
    "    SeeV = np.char.replace(SeeV,',','.').astype(np.float64)\n",
    "    \n",
    "    return SeeV[:,0], SeeV[:,1]"
   ]
  },
  {
   "cell_type": "code",
   "execution_count": 14,
   "metadata": {
    "ExecuteTime": {
     "end_time": "2019-07-31T15:16:24.686368Z",
     "start_time": "2019-07-31T15:16:24.666958Z"
    }
   },
   "outputs": [],
   "source": [
    "TV, SeeV =  get_data(\"Vaughan-SEE2.csv\")\n",
    "TS, SeeS =  get_data(\"Sminov-SEE.csv\")"
   ]
  },
  {
   "cell_type": "code",
   "execution_count": 18,
   "metadata": {
    "ExecuteTime": {
     "end_time": "2019-07-31T15:17:36.772963Z",
     "start_time": "2019-07-31T15:17:35.768621Z"
    },
    "code_folding": [],
    "scrolled": false
   },
   "outputs": [
    {
     "data": {
      "image/png": "[encoded data removed]",
      "text/plain": [
       "<Figure size 288x216 with 1 Axes>"
      ]
     },
     "metadata": {
      "needs_background": "light"
     },
     "output_type": "display_data"
    }
   ],
   "source": [
    "#ploting\n",
    "fig = plt.figure(figsize=(4,3))\n",
    "\n",
    "plt.plot(TV,SeeV, label = \"SEE rate: Vaughan\",linewidth=1.4)\n",
    "plt.plot(TS,SeeS, label = \"SEE rate: Smirnov\",linewidth=1.4)\n",
    "\n",
    "text_size = 9.5\n",
    "kwargs = {\"size\":text_size, \"backgroundcolor\":\"w\" }\n",
    "\n",
    "plt.text(6,0.65,'Vaughan', **kwargs)\n",
    "plt.text(10.3,0.97,r'$\\sigma_{\\rm cr}$', **kwargs)\n",
    "plt.text(7,0.93,'Linear', **kwargs)\n",
    "\n",
    "plt.ylim(ymin = 0.4, ymax=1.05)\n",
    "plt.xlim(0,10)\n",
    "\n",
    "#plt.hlines(1,0,10, linewidth=1.2, linestyles=\":\")\n",
    "plt.hlines(0.983,0,10, linewidth=1.2, linestyles=\":\")\n",
    "plt.ylabel(r\"SEE rate $\\bar{\\sigma}$\")\n",
    "plt.xlabel(\"Time $ \\/ [\\mu s]$\")\n",
    "plt.savefig('../SEE_models_comparaison.pdf',bbox_inches=\"tight\")"
   ]
  },
  {
   "cell_type": "code",
   "execution_count": null,
   "metadata": {},
   "outputs": [],
   "source": []
  }
 ],
 "metadata": {
  "hide_input": false,
  "kernelspec": {
   "display_name": "Python 3",
   "language": "python",
   "name": "python3"
  },
  "language_info": {
   "codemirror_mode": {
    "name": "ipython",
    "version": 3
   },
   "file_extension": ".py",
   "mimetype": "text/x-python",
   "name": "python",
   "nbconvert_exporter": "python",
   "pygments_lexer": "ipython3",
   "version": "3.7.3"
  },
  "latex_envs": {
   "LaTeX_envs_menu_present": true,
   "autoclose": false,
   "autocomplete": true,
   "bibliofile": "biblio.bib",
   "cite_by": "apalike",
   "current_citInitial": 1,
   "eqLabelWithNumbers": true,
   "eqNumInitial": 1,
   "hotkeys": {
    "equation": "Ctrl-E",
    "itemize": "Ctrl-I"
   },
   "labels_anchors": false,
   "latex_user_defs": false,
   "report_style_numbering": false,
   "user_envs_cfg": false
  },
  "toc": {
   "base_numbering": 1,
   "nav_menu": {},
   "number_sections": true,
   "sideBar": true,
   "skip_h1_title": false,
   "title_cell": "Table of Contents",
   "title_sidebar": "Contents",
   "toc_cell": false,
   "toc_position": {},
   "toc_section_display": true,
   "toc_window_display": false
  },
  "varInspector": {
   "cols": {
    "lenName": 16,
    "lenType": 16,
    "lenVar": 40
   },
   "kernels_config": {
    "python": {
     "delete_cmd_postfix": "",
     "delete_cmd_prefix": "del ",
     "library": "var_list.py",
     "varRefreshCmd": "print(var_dic_list())"
    },
    "r": {
     "delete_cmd_postfix": ") ",
     "delete_cmd_prefix": "rm(",
     "library": "var_list.r",
     "varRefreshCmd": "cat(var_dic_list()) "
    }
   },
   "types_to_exclude": [
    "module",
    "function",
    "builtin_function_or_method",
    "instance",
    "_Feature"
   ],
   "window_display": false
  }
 },
 "nbformat": 4,
 "nbformat_minor": 2
}
