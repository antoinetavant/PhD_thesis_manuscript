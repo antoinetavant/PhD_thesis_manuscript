{
 "cells": [
  {
   "cell_type": "code",
   "execution_count": 1,
   "metadata": {
    "ExecuteTime": {
     "end_time": "2018-05-23T16:06:14.904828Z",
     "start_time": "2018-05-23T16:06:14.366544Z"
    }
   },
   "outputs": [],
   "source": [
    "#imports libs and data\n",
    "%matplotlib inline\n",
    "import warnings\n",
    "warnings.filterwarnings(\"ignore\")\n",
    "\n",
    "import numpy as np\n",
    "import pickle, json\n",
    "\n",
    "from scipy.ndimage.filters import gaussian_filter1d as smooth\n",
    "\n",
    "import Classes.LPPic_fields as fl\n",
    "import Classes.LPPic as LP\n",
    "import Classes.LPPic_newwalls as nw\n",
    "from functions import (simpleplot, ne_Bolz, Te_eff_calcl, phi_drop,\n",
    "                        sigma_maxw_unsat,\n",
    "                        sigma_maxw_sat,\n",
    "                        newSigma_maxw,)\n",
    "\n",
    "import matplotlib as mpl\n",
    "import matplotlib.pyplot as plt\n",
    "\n",
    "qe = 1.6021766E-19\n",
    "me =  9.109E-31 \n",
    "mi = 219.6E-27\n",
    "eps0 = 8.854187817e-12\n",
    "\n",
    "run = pickle.load( open( \"save_run.p\", \"rb\" ) )\n",
    "data_all = pickle.load( open( \"save_data_all.p\", \"rb\" ) )\n",
    "PIC = pickle.load( open( \"PICvalues.dat\", \"rb\" ) )\n",
    "savepath = \"../images/\"\n",
    "\n",
    "sigma_0 = 0.5\n",
    "sigma_max= 2.9"
   ]
  },
  {
   "cell_type": "code",
   "execution_count": 13,
   "metadata": {
    "ExecuteTime": {
     "end_time": "2018-05-23T16:09:22.845708Z",
     "start_time": "2018-05-23T16:09:22.739631Z"
    }
   },
   "outputs": [],
   "source": [
    "def returnTemean(run, start = 0.5):\n",
    "    \n",
    "    tmax = run._nT\n",
    "    tmin = int(start*tmax)\n",
    "    Nt = tmax - tmin + 1\n",
    "    Temean = np.zeros((run._xmax+1,run._ymax+1))\n",
    "\n",
    "    for t in np.arange(tmin,tmax):\n",
    "        print(f\"\\r {t} over {tmax} time step\",end = \"\")\n",
    "        Temean += run.return_fromkey(t,'Eke(1)') + run.return_fromkey(t,'Eke(2)') + run.return_fromkey(t,'Eke(3)')\n",
    "    \n",
    "    Temean *= 2/3\n",
    "    \n",
    "    return Temean / Nt\n",
    "\n",
    "def returnVmean(run, start = 0.5):\n",
    "    \n",
    "    tmax = run._nT\n",
    "    tmin = int(start*tmax)\n",
    "    Nt = tmax - tmin + 1\n",
    "    nmean = np.zeros((run._xmax+1,run._ymax+1))\n",
    "    J1mean = np.zeros((run._xmax+1,run._ymax+1))\n",
    "    J2mean = np.zeros((run._xmax+1,run._ymax+1))\n",
    "    J3mean = np.zeros((run._xmax+1,run._ymax+1))\n",
    "    \n",
    "    for t in np.arange(tmin,tmax):\n",
    "        print(f\"\\r {t} over {tmax} time step\",end = \"\")\n",
    "        \n",
    "        ntemp = run.return_fromkey(t,'Nume') \n",
    "        nmean += ntemp\n",
    "        J1mean += run.return_fromkey(t,'Je(1)') / ntemp\n",
    "        J2mean += run.return_fromkey(t,'Je(2)') / ntemp\n",
    "        J3mean += run.return_fromkey(t,'Je(3)') / ntemp\n",
    "        \n",
    "    \n",
    "    return nmean/Nt, -J1mean/qe_v/Nt, -J2mean/qe_v/Nt, -J3mean/qe_v/Nt\n",
    "\n",
    "def returnPhimean(run, start = 0.5):\n",
    "    \n",
    "    tmax = run._nT\n",
    "    tmin = int(start*tmax)\n",
    "    Nt = tmax - tmin + 1\n",
    "    Temean = np.zeros((run._xmax+1,run._ymax+1))\n",
    "\n",
    "    for t in np.arange(tmin,tmax):\n",
    "        print(f\"\\r {t} over {tmax} time step\",end = \"\")\n",
    "        Temean += run.return_fromkey(t,'Phi')\n",
    "        \n",
    "    return Temean / Nt"
   ]
  },
  {
   "cell_type": "code",
   "execution_count": 25,
   "metadata": {
    "ExecuteTime": {
     "end_time": "2018-05-23T16:14:11.838896Z",
     "start_time": "2018-05-23T16:14:11.824872Z"
    }
   },
   "outputs": [],
   "source": [
    "#folders = [\"131_eps50\",\n",
    "#          \"132_eps45\",\n",
    "#          #\"133_eps25\",\n",
    "#          \"134_eps10\",\n",
    "#          \"135_eps200\",\n",
    "#          \"136_LongX\",\n",
    "#          ]\n",
    "folders = [\"134_eps10\"]\n",
    "root = \"/run/media/tavant/Data3/\"\n",
    "#root = \"/home/tavant/Data/R_theta/\"\n",
    "\n",
    "paths = [root + fol +\"/\" for fol in folders]"
   ]
  },
  {
   "cell_type": "code",
   "execution_count": 26,
   "metadata": {
    "ExecuteTime": {
     "end_time": "2018-05-23T16:14:15.520079Z",
     "start_time": "2018-05-23T16:14:12.117419Z"
    }
   },
   "outputs": [
    {
     "name": "stdout",
     "output_type": "stream",
     "text": [
      "found 80 files\n",
      " 79 over 80 time step"
     ]
    }
   ],
   "source": [
    "run = fl.field(paths[0])\n",
    "Phi = returnPhimean(run)"
   ]
  },
  {
   "cell_type": "code",
   "execution_count": 27,
   "metadata": {
    "ExecuteTime": {
     "end_time": "2018-05-23T16:14:15.714021Z",
     "start_time": "2018-05-23T16:14:15.529025Z"
    }
   },
   "outputs": [
    {
     "data": {
      "text/plain": [
       "(0, 10)"
      ]
     },
     "execution_count": 27,
     "metadata": {},
     "output_type": "execute_result"
    },
    {
     "data": {
      "image/png": "[encoded data removed]",
      "text/plain": [
       "<Figure size 432x288 with 1 Axes>"
      ]
     },
     "metadata": {},
     "output_type": "display_data"
    }
   ],
   "source": [
    "plt.plot(Phi.mean(axis = 0))\n",
    "plt.xlim(0, 10)"
   ]
  },
  {
   "cell_type": "code",
   "execution_count": 28,
   "metadata": {
    "ExecuteTime": {
     "end_time": "2018-05-23T16:14:18.552758Z",
     "start_time": "2018-05-23T16:14:18.537189Z"
    }
   },
   "outputs": [
    {
     "name": "stdout",
     "output_type": "stream",
     "text": [
      "-1.6667414503393099\n"
     ]
    }
   ],
   "source": [
    "print(Phi.mean(axis = 0).min())"
   ]
  },
  {
   "cell_type": "code",
   "execution_count": null,
   "metadata": {},
   "outputs": [],
   "source": []
  }
 ],
 "metadata": {
  "hide_input": false,
  "kernelspec": {
   "display_name": "Python 3",
   "language": "python",
   "name": "python3"
  },
  "language_info": {
   "codemirror_mode": {
    "name": "ipython",
    "version": 3
   },
   "file_extension": ".py",
   "mimetype": "text/x-python",
   "name": "python",
   "nbconvert_exporter": "python",
   "pygments_lexer": "ipython3",
   "version": "3.7.3"
  },
  "latex_envs": {
   "LaTeX_envs_menu_present": true,
   "autoclose": false,
   "autocomplete": true,
   "bibliofile": "biblio.bib",
   "cite_by": "apalike",
   "current_citInitial": 1,
   "eqLabelWithNumbers": true,
   "eqNumInitial": 1,
   "hotkeys": {
    "equation": "Ctrl-E",
    "itemize": "Ctrl-I"
   },
   "labels_anchors": false,
   "latex_user_defs": false,
   "report_style_numbering": false,
   "user_envs_cfg": false
  },
  "toc": {
   "base_numbering": 1,
   "nav_menu": {},
   "number_sections": true,
   "sideBar": true,
   "skip_h1_title": false,
   "title_cell": "Table of Contents",
   "title_sidebar": "Contents",
   "toc_cell": false,
   "toc_position": {},
   "toc_section_display": true,
   "toc_window_display": false
  },
  "varInspector": {
   "cols": {
    "lenName": 16,
    "lenType": 16,
    "lenVar": 40
   },
   "kernels_config": {
    "python": {
     "delete_cmd_postfix": "",
     "delete_cmd_prefix": "del ",
     "library": "var_list.py",
     "varRefreshCmd": "print(var_dic_list())"
    },
    "r": {
     "delete_cmd_postfix": ") ",
     "delete_cmd_prefix": "rm(",
     "library": "var_list.r",
     "varRefreshCmd": "cat(var_dic_list()) "
    }
   },
   "types_to_exclude": [
    "module",
    "function",
    "builtin_function_or_method",
    "instance",
    "_Feature"
   ],
   "window_display": false
  }
 },
 "nbformat": 4,
 "nbformat_minor": 2
}
