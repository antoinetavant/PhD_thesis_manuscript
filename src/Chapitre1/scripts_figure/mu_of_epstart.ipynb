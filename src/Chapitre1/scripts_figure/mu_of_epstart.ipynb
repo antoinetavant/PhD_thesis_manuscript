{
 "cells": [
  {
   "cell_type": "code",
   "execution_count": 1,
   "metadata": {
    "ExecuteTime": {
     "end_time": "2019-07-31T15:20:27.435980Z",
     "start_time": "2019-07-31T15:20:27.139480Z"
    },
    "code_folding": [
     0
    ]
   },
   "outputs": [],
   "source": [
    "#importing\n",
    "import numpy as np\n",
    "import matplotlib.pyplot as plt\n",
    "import matplotlib.cm as cm\n",
    "import matplotlib.patches as patches\n",
    "import pylab\n",
    "import glob\n",
    "from scipy import interpolate\n",
    "import math\n",
    "\n",
    "%matplotlib inline\n",
    "\n",
    "\n",
    "import pickle, json\n",
    "\n",
    "import matplotlib as mpl\n",
    "Paper_style = json.load(open(\"Paperstyle.json\",'r'))\n",
    "mpl.style.use(Paper_style)"
   ]
  },
  {
   "cell_type": "code",
   "execution_count": 2,
   "metadata": {
    "ExecuteTime": {
     "end_time": "2019-07-31T15:20:27.479011Z",
     "start_time": "2019-07-31T15:20:27.460798Z"
    },
    "code_folding": []
   },
   "outputs": [],
   "source": [
    "#Let us begin with the discrete values\n",
    "epsilon = np.arange(12, dtype= 'f')\n",
    "epsilon[0] = 3.0\n",
    "epsilon[1] = 8.0\n",
    "epsilon[2] = 15.0\n",
    "epsilon[3] = 30.0\n",
    "epsilon[4] = 38.0\n",
    "epsilon[5] = 40.0\n",
    "epsilon[6] = 45.0\n",
    "epsilon[7] = 50.0\n",
    "epsilon[8] = 55.0\n",
    "epsilon[9] = 60.0\n",
    "epsilon[10] = 100.0\n",
    "epsilon[11] = 200.0\n",
    "\n",
    "#mobilities\n",
    "#PIC\n",
    "mu_PIC = np.arange(12, dtype= 'f')\n",
    "mu_PIC[0] = 6.1\n",
    "mu_PIC[1] = 6.0\n",
    "mu_PIC[2] = 5.9\n",
    "mu_PIC[3] = 5.6\n",
    "mu_PIC[4] = 5.6\n",
    "mu_PIC[5] = 6.0\n",
    "mu_PIC[6] = 5.7\n",
    "mu_PIC[7] = 5.6\n",
    "mu_PIC[8] = 5.6\n",
    "mu_PIC[9] = 5.6\n",
    "mu_PIC[10] = 5.8\n",
    "mu_PIC[11] = 5.67\n",
    "\n",
    "#Effective\n",
    "mu_EFF = np.arange(12, dtype= 'f')\n",
    "mu_EFF[0] = 5.2\n",
    "mu_EFF[1] = 4.92\n",
    "mu_EFF[2] = 4.9\n",
    "mu_EFF[3] = 4.2\n",
    "mu_EFF[4] = 4.1\n",
    "mu_EFF[5] = 4.7\n",
    "mu_EFF[6] = 4.9\n",
    "mu_EFF[7] = 4.4\n",
    "mu_EFF[8] = 4.4\n",
    "mu_EFF[9] = 4.4\n",
    "mu_EFF[10] = 5.1\n",
    "mu_EFF[11] = 5.0\n",
    "\n",
    "#classical\n",
    "mu_CLA = np.arange(12, dtype= 'f')\n",
    "mu_CLA[0] = 0.2\n",
    "mu_CLA[1] = 0.2\n",
    "mu_CLA[2] = 0.2\n",
    "mu_CLA[3] = 0.2\n",
    "mu_CLA[4] = 0.19\n",
    "mu_CLA[5] = 0.21\n",
    "mu_CLA[6] = 0.20\n",
    "mu_CLA[7] = 0.22\n",
    "mu_CLA[8] = 0.22\n",
    "mu_CLA[9] = 0.22\n",
    "mu_CLA[10] = 0.22\n",
    "mu_CLA[11] = 0.22\n",
    "\n",
    "#saturation\n",
    "mu_SAT = np.arange(12, dtype= 'f')\n",
    "mu_SAT[0] = 3.1\n",
    "mu_SAT[1] = 3.1\n",
    "mu_SAT[2] = 3.2\n",
    "mu_SAT[3] = 3.3\n",
    "mu_SAT[4] = 3.4\n",
    "mu_SAT[5] = 3.5\n",
    "mu_SAT[6] = 3.6\n",
    "mu_SAT[7] = 3.75\n",
    "mu_SAT[8] = 3.8\n",
    "mu_SAT[9] = 3.75\n",
    "mu_SAT[10] = 3.75\n",
    "mu_SAT[11] = 3.75\n"
   ]
  },
  {
   "cell_type": "code",
   "execution_count": 5,
   "metadata": {
    "ExecuteTime": {
     "end_time": "2019-07-31T15:23:13.790460Z",
     "start_time": "2019-07-31T15:23:12.794121Z"
    },
    "code_folding": []
   },
   "outputs": [
    {
     "data": {
      "image/png": "[encoded data removed]",
      "text/plain": [
       "<Figure size 288x216 with 1 Axes>"
      ]
     },
     "metadata": {
      "needs_background": "light"
     },
     "output_type": "display_data"
    }
   ],
   "source": [
    "#ploting\n",
    "fig,ax = plt.subplots(1, figsize=(4,3))\n",
    "\n",
    "ax.plot(epsilon,mu_PIC,label='$\\mu_{pic}$',marker='o',linestyle='--',color='b',linewidth=1.4)\n",
    "ax.plot(epsilon,mu_EFF,label='$\\mu_{eff}$',marker='o',linestyle='--',color='r',linewidth=1.4)\n",
    "ax.plot(epsilon,mu_SAT,label='$\\mu_{eff}^{sat}$',marker='o',linestyle='--',color='g',linewidth=1.4)\n",
    "ax.plot(epsilon,mu_CLA,label='$\\mu_{cla}$',marker='o',linestyle='--',color='m',linewidth=1.4)\n",
    "\n",
    "#zones d'erreur autour des lignes de valeur\n",
    "plt.fill_between(epsilon,mu_PIC-0.5,mu_PIC+0.5,alpha=0.15,facecolor='b')\n",
    "plt.fill_between(epsilon,mu_EFF-0.5,mu_EFF+0.5,alpha=0.1,facecolor='r')\n",
    "plt.fill_between(epsilon,mu_SAT-0.1,mu_SAT+0.1,alpha=0.15,facecolor='g')\n",
    "plt.fill_between(epsilon,mu_CLA-0.1,mu_CLA+0.1,alpha=0.1,facecolor='m')\n",
    "\n",
    "plt.xlabel('Cross-over energy $\\epsilon^*$ [V]')\n",
    "plt.ylabel(\"Electron mobility [m$^2$ (Vs)$^{-1}$]\")\n",
    "plt.xlim([0,203])\n",
    "plt.ylim([0,7])\n",
    "\n",
    "#regimes with the arrows\n",
    "arrow = True\n",
    "if arrow:\n",
    "    plt.annotate(s='', xy=(0.00,1.6), xytext=(36.0,1.6), arrowprops=dict(arrowstyle='<->'))\n",
    "    plt.annotate(s='', xy=(33.1,1.6), xytext=(55,1.6), arrowprops=dict(arrowstyle='<->'))\n",
    "    plt.annotate(s='', xy=(51.0,1.6), xytext=(200,1.6), arrowprops=dict(arrowstyle='<->'))\n",
    "\n",
    "    plt.text(15.0,1.9,r'I',fontsize=15)\n",
    "    plt.text(39.0,1.9,r'II',fontsize=15)\n",
    "    plt.text(100.0,1.9,r'III',fontsize=15)\n",
    "\n",
    "#rectabgle patch\n",
    "#currentAxis = plt.gca()\n",
    "#currentAxis.add_patch(patches.Rectangle( (38.5,0.0), 10.0, 280., facecolor='0.7', edgecolor=\"none\", alpha=0.3))\n",
    "\n",
    "#legend outside the box\n",
    "\n",
    "#ax.legend(loc='upper center', bbox_to_anchor=(0.5, 1.1),ncol=2, fancybox=False, shadow=False)\n",
    "text_size = 9.5\n",
    "kwargs = {\"size\":text_size}#, \"backgroundcolor\":\"w\" }\n",
    "\n",
    "plt.text(135,6.05,r'$\\mu_{pic}$',**kwargs,)\n",
    "plt.text(160,4.7,r'$\\mu_{eff}$',**kwargs,)\n",
    "plt.text(140,0.7,r'$\\mu_{cla}$',**kwargs,)\n",
    "plt.text(150,3.2,r'$\\mu_{eff}^{sat}$',**kwargs,)\n",
    "#ax.legend(loc='lower center',ncol=2)\n",
    "\n",
    "plt.savefig('../parametric_mobs_eps_complete.pdf')\n"
   ]
  },
  {
   "cell_type": "code",
   "execution_count": null,
   "metadata": {},
   "outputs": [],
   "source": []
  }
 ],
 "metadata": {
  "hide_input": false,
  "kernelspec": {
   "display_name": "Python 3",
   "language": "python",
   "name": "python3"
  },
  "language_info": {
   "codemirror_mode": {
    "name": "ipython",
    "version": 3
   },
   "file_extension": ".py",
   "mimetype": "text/x-python",
   "name": "python",
   "nbconvert_exporter": "python",
   "pygments_lexer": "ipython3",
   "version": "3.7.3"
  },
  "latex_envs": {
   "LaTeX_envs_menu_present": true,
   "autoclose": false,
   "autocomplete": true,
   "bibliofile": "biblio.bib",
   "cite_by": "apalike",
   "current_citInitial": 1,
   "eqLabelWithNumbers": true,
   "eqNumInitial": 1,
   "hotkeys": {
    "equation": "Ctrl-E",
    "itemize": "Ctrl-I"
   },
   "labels_anchors": false,
   "latex_user_defs": false,
   "report_style_numbering": false,
   "user_envs_cfg": false
  },
  "toc": {
   "base_numbering": 1,
   "nav_menu": {},
   "number_sections": true,
   "sideBar": true,
   "skip_h1_title": false,
   "title_cell": "Table of Contents",
   "title_sidebar": "Contents",
   "toc_cell": false,
   "toc_position": {},
   "toc_section_display": true,
   "toc_window_display": false
  },
  "varInspector": {
   "cols": {
    "lenName": 16,
    "lenType": 16,
    "lenVar": 40
   },
   "kernels_config": {
    "python": {
     "delete_cmd_postfix": "",
     "delete_cmd_prefix": "del ",
     "library": "var_list.py",
     "varRefreshCmd": "print(var_dic_list())"
    },
    "r": {
     "delete_cmd_postfix": ") ",
     "delete_cmd_prefix": "rm(",
     "library": "var_list.r",
     "varRefreshCmd": "cat(var_dic_list()) "
    }
   },
   "types_to_exclude": [
    "module",
    "function",
    "builtin_function_or_method",
    "instance",
    "_Feature"
   ],
   "window_display": false
  }
 },
 "nbformat": 4,
 "nbformat_minor": 2
}
