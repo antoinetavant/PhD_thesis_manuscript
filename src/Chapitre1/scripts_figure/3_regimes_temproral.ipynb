{
 "cells": [
  {
   "cell_type": "code",
   "execution_count": 2,
   "metadata": {
    "ExecuteTime": {
     "end_time": "2018-09-10T07:57:46.080805Z",
     "start_time": "2018-09-10T07:57:45.692919Z"
    }
   },
   "outputs": [],
   "source": [
    "import pandas\n",
    "%matplotlib inline\n",
    "import numpy as np\n",
    "import matplotlib.pyplot as plt\n",
    "\n",
    "import pickle, json\n",
    "\n",
    "import matplotlib as mpl\n",
    "Paper_style = json.load(open(\"Paperstyle.json\",'r'))\n",
    "mpl.style.use(Paper_style)\n",
    "import matplotlib.transforms as mtransforms\n",
    "\n",
    "mpl.rcParams[\"figure.autolayout\"] = False\n"
   ]
  },
  {
   "cell_type": "code",
   "execution_count": 3,
   "metadata": {
    "ExecuteTime": {
     "end_time": "2018-09-10T07:57:46.115885Z",
     "start_time": "2018-09-10T07:57:46.095107Z"
    }
   },
   "outputs": [],
   "source": [
    "a = pandas.read_csv(\"wpd_datasets.csv\")"
   ]
  },
  {
   "cell_type": "code",
   "execution_count": 4,
   "metadata": {
    "ExecuteTime": {
     "end_time": "2018-09-10T07:57:46.185795Z",
     "start_time": "2018-09-10T07:57:46.170749Z"
    }
   },
   "outputs": [
    {
     "data": {
      "text/html": [
       "<div>\n",
       "<style scoped>\n",
       "    .dataframe tbody tr th:only-of-type {\n",
       "        vertical-align: middle;\n",
       "    }\n",
       "\n",
       "    .dataframe tbody tr th {\n",
       "        vertical-align: top;\n",
       "    }\n",
       "\n",
       "    .dataframe thead th {\n",
       "        text-align: right;\n",
       "    }\n",
       "</style>\n",
       "<table border=\"1\" class=\"dataframe\">\n",
       "  <thead>\n",
       "    <tr style=\"text-align: right;\">\n",
       "      <th></th>\n",
       "      <th>T1</th>\n",
       "      <th>SEE1</th>\n",
       "      <th>T2</th>\n",
       "      <th>SEE2</th>\n",
       "      <th>T3</th>\n",
       "      <th>SEE3</th>\n",
       "    </tr>\n",
       "  </thead>\n",
       "  <tbody>\n",
       "    <tr>\n",
       "      <th>0</th>\n",
       "      <td>0.027306</td>\n",
       "      <td>0.723610</td>\n",
       "      <td>0.023271</td>\n",
       "      <td>0.690303</td>\n",
       "      <td>0.023271</td>\n",
       "      <td>0.670845</td>\n",
       "    </tr>\n",
       "    <tr>\n",
       "      <th>1</th>\n",
       "      <td>0.017891</td>\n",
       "      <td>0.710263</td>\n",
       "      <td>0.007131</td>\n",
       "      <td>0.676008</td>\n",
       "      <td>0.007131</td>\n",
       "      <td>0.655229</td>\n",
       "    </tr>\n",
       "    <tr>\n",
       "      <th>2</th>\n",
       "      <td>0.007131</td>\n",
       "      <td>0.699585</td>\n",
       "      <td>0.055551</td>\n",
       "      <td>0.703803</td>\n",
       "      <td>0.050171</td>\n",
       "      <td>0.680856</td>\n",
       "    </tr>\n",
       "    <tr>\n",
       "      <th>3</th>\n",
       "      <td>0.060931</td>\n",
       "      <td>0.740161</td>\n",
       "      <td>0.079761</td>\n",
       "      <td>0.726832</td>\n",
       "      <td>0.071691</td>\n",
       "      <td>0.695672</td>\n",
       "    </tr>\n",
       "    <tr>\n",
       "      <th>4</th>\n",
       "      <td>0.082451</td>\n",
       "      <td>0.765254</td>\n",
       "      <td>0.071691</td>\n",
       "      <td>0.714126</td>\n",
       "      <td>0.098591</td>\n",
       "      <td>0.718229</td>\n",
       "    </tr>\n",
       "  </tbody>\n",
       "</table>\n",
       "</div>"
      ],
      "text/plain": [
       "         T1      SEE1        T2      SEE2        T3      SEE3\n",
       "0  0.027306  0.723610  0.023271  0.690303  0.023271  0.670845\n",
       "1  0.017891  0.710263  0.007131  0.676008  0.007131  0.655229\n",
       "2  0.007131  0.699585  0.055551  0.703803  0.050171  0.680856\n",
       "3  0.060931  0.740161  0.079761  0.726832  0.071691  0.695672\n",
       "4  0.082451  0.765254  0.071691  0.714126  0.098591  0.718229"
      ]
     },
     "execution_count": 4,
     "metadata": {},
     "output_type": "execute_result"
    }
   ],
   "source": [
    "a.head()"
   ]
  },
  {
   "cell_type": "code",
   "execution_count": 5,
   "metadata": {
    "ExecuteTime": {
     "end_time": "2018-09-10T07:57:46.328921Z",
     "start_time": "2018-09-10T07:57:46.323714Z"
    }
   },
   "outputs": [],
   "source": [
    "T1 = a[\"T1\"]\n",
    "SEE1 = a[\"SEE1\"]\n",
    "\n",
    "T2 = a[\"T2\"]\n",
    "SEE2 = a[\"SEE2\"]\n",
    "\n",
    "T3 = a[\"T3\"]\n",
    "SEE3 = a[\"SEE3\"]\n"
   ]
  },
  {
   "cell_type": "code",
   "execution_count": 7,
   "metadata": {
    "ExecuteTime": {
     "end_time": "2018-09-10T08:00:54.098270Z",
     "start_time": "2018-09-10T08:00:53.206747Z"
    }
   },
   "outputs": [
    {
     "name": "stderr",
     "output_type": "stream",
     "text": [
      "/home/tavant/these/code/venv/stand/lib/python3.6/site-packages/ipykernel_launcher.py:34: RuntimeWarning: invalid value encountered in greater\n"
     ]
    },
    {
     "data": {
      "image/png": "[encoded data removed]",
      "text/plain": [
       "<Figure size 252x252 with 3 Axes>"
      ]
     },
     "metadata": {},
     "output_type": "display_data"
    }
   ],
   "source": [
    "fig, [ax1,ax2,ax3] = plt.subplots(3, figsize = (3.5,3.5))\n",
    "\n",
    "ax1.plot(T1,SEE1,linewidth = 1.5)\n",
    "ax1.set_title(r'Regime I: $\\epsilon^* = 38 V$', size = 10)\n",
    "\n",
    "ax2.plot(T2,SEE2,linewidth = 1.5)\n",
    "ax2.set_title(r'Regime II: $\\epsilon^* = 45 V$', size = 10)\n",
    "\n",
    "ax3.plot(T3,SEE3,linewidth = 1.5)\n",
    "ax3.set_title(r'Regime III: $\\epsilon^* = 50 V$', size = 10)\n",
    "ax3.set_xlabel(\"Time $ \\quad [\\mu s]$\")\n",
    "\n",
    "for ax in [ax1, ax2]:\n",
    "    ax.tick_params(axis=\"x\",which=\"both\",\n",
    "        bottom=False,      # ticks along the bottom edge are off\n",
    "        labelbottom=False,  # labels along the bottom edge are off\n",
    "                  )\n",
    "for ax in [ax3, ax2]:\n",
    "    ax.tick_params(axis=\"x\",which=\"both\",\n",
    "        top=False,         # ticks along the top edge are off\n",
    "       # labelbottom=False,  # labels along the bottom edge are off\n",
    "                  )\n",
    "    \n",
    "for ax in [ax1,ax2,ax3]:\n",
    "    ax.set_ylabel(r\"SEE rate $\\bar{\\sigma}$\")\n",
    "    ax.set_ylim(0.5,1.05)\n",
    "    ax.set_xlim(0,10)\n",
    "    \n",
    "    line = ax.lines[0] # get the first line, there might be more\n",
    "    x = line.get_xdata()\n",
    "    y = line.get_ydata()\n",
    "    trans = mtransforms.blended_transform_factory(ax.transData, ax.transAxes) #transform the data coords to the axis coords\n",
    "    theta = 0.982\n",
    "    ax.fill_between(x, 0, 1, where=y > theta, facecolor='green', alpha=0.15, transform=trans)\n",
    "    \n",
    "plt.subplots_adjust(hspace = 0.35   # the amount of height reserved for space between subplots,\n",
    "               # expressed as a fraction of the average axis height\n",
    "                   )\n",
    "\n",
    "plt.savefig(\"../images/comparaison_3_regimes.pdf\",bbox_inches=\"tight\")"
   ]
  },
  {
   "cell_type": "code",
   "execution_count": null,
   "metadata": {},
   "outputs": [],
   "source": []
  },
  {
   "cell_type": "code",
   "execution_count": null,
   "metadata": {},
   "outputs": [],
   "source": []
  }
 ],
 "metadata": {
  "hide_input": false,
  "kernelspec": {
   "display_name": "Python 3",
   "language": "python",
   "name": "python3"
  },
  "language_info": {
   "codemirror_mode": {
    "name": "ipython",
    "version": 3
   },
   "file_extension": ".py",
   "mimetype": "text/x-python",
   "name": "python",
   "nbconvert_exporter": "python",
   "pygments_lexer": "ipython3",
   "version": "3.7.3"
  },
  "latex_envs": {
   "LaTeX_envs_menu_present": true,
   "autoclose": false,
   "autocomplete": true,
   "bibliofile": "biblio.bib",
   "cite_by": "apalike",
   "current_citInitial": 1,
   "eqLabelWithNumbers": true,
   "eqNumInitial": 1,
   "hotkeys": {
    "equation": "Ctrl-E",
    "itemize": "Ctrl-I"
   },
   "labels_anchors": false,
   "latex_user_defs": false,
   "report_style_numbering": false,
   "user_envs_cfg": false
  },
  "toc": {
   "base_numbering": 1,
   "nav_menu": {},
   "number_sections": true,
   "sideBar": true,
   "skip_h1_title": false,
   "title_cell": "Table of Contents",
   "title_sidebar": "Contents",
   "toc_cell": false,
   "toc_position": {},
   "toc_section_display": true,
   "toc_window_display": false
  },
  "varInspector": {
   "cols": {
    "lenName": 16,
    "lenType": 16,
    "lenVar": 40
   },
   "kernels_config": {
    "python": {
     "delete_cmd_postfix": "",
     "delete_cmd_prefix": "del ",
     "library": "var_list.py",
     "varRefreshCmd": "print(var_dic_list())"
    },
    "r": {
     "delete_cmd_postfix": ") ",
     "delete_cmd_prefix": "rm(",
     "library": "var_list.r",
     "varRefreshCmd": "cat(var_dic_list()) "
    }
   },
   "types_to_exclude": [
    "module",
    "function",
    "builtin_function_or_method",
    "instance",
    "_Feature"
   ],
   "window_display": false
  }
 },
 "nbformat": 4,
 "nbformat_minor": 2
}
